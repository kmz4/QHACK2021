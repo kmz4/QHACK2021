{
 "cells": [
  {
   "cell_type": "code",
   "execution_count": 1,
   "id": "finite-accuracy",
   "metadata": {},
   "outputs": [
    {
     "data": {
      "text/html": [
       "<style>.container { width:95% !important; }</style>"
      ],
      "text/plain": [
       "<IPython.core.display.HTML object>"
      ]
     },
     "metadata": {},
     "output_type": "display_data"
    }
   ],
   "source": [
    "%config Completer.use_jedi = False\n",
    "from IPython.core.display import display, HTML\n",
    "display(HTML(\"<style>.container { width:95% !important; }</style>\"))"
   ]
  },
  {
   "cell_type": "code",
   "execution_count": 2,
   "id": "legitimate-breath",
   "metadata": {},
   "outputs": [],
   "source": [
    "import os, pickle\n",
    "os.chdir('/Users/kathleenhamilton/Desktop/QHACK2021/qose/QHACK2021/src')\n",
    "from subarchitecture_tree_search import *"
   ]
  },
  {
   "cell_type": "markdown",
   "id": "boxed-pocket",
   "metadata": {},
   "source": [
    "## First example\n",
    "\n",
    "The first example builds a circuit classifier for the moons dataset available in sklearn.  The architecture consists of:\n",
    "\n",
    "`Encoding` -> `Parameterized Layers` -> `One Hot Encoding`\n",
    "\n",
    "The tree will iteratively grow the parameterized layers through the addition of:\n",
    "* Layers of RX gates\n",
    "* Layers of ZZ gates\n",
    "* Layers of RY gates"
   ]
  },
  {
   "cell_type": "code",
   "execution_count": 3,
   "id": "prospective-border",
   "metadata": {},
   "outputs": [],
   "source": [
    "# Create a unique name for your experiment\n",
    "EXPERIMENT_NAME = 'one_hot'\n",
    "\n",
    "# Create a directory to store the data\n",
    "if not os.path.exists('data'):\n",
    "    os.mkdir('data/')\n",
    "\n",
    "data_path = f'data/{EXPERIMENT_NAME}'\n",
    "if not os.path.exists(data_path):\n",
    "    os.mkdir(data_path)\n",
    "\n",
    "# Create a configuration file for the tree prune algorithm\n",
    "config = {'nqubits': 4,\n",
    "          'min_tree_depth': 4,\n",
    "          'max_tree_depth': 8,\n",
    "          'prune_rate': 0.15,\n",
    "          'prune_step': 3,\n",
    "          'plot_trees': False,\n",
    "          'data_set': 'moons',\n",
    "          'nsteps': 5,\n",
    "          'opt': qml.AdamOptimizer,\n",
    "          'batch_size': [8,16,32,64],\n",
    "          'n_samples': 1500,\n",
    "          'learning_rate': [0.001,0.005,0.01],\n",
    "          'save_frequency': 1,\n",
    "          'save_path': data_path,\n",
    "          'save_timing': True\n",
    "          }\n",
    "\n",
    "# Save the configuration file so that we can remember what we did\n",
    "with open(data_path + '/config.pickle', 'wb') as f:\n",
    "    pickle.dump(config, f)"
   ]
  },
  {
   "cell_type": "code",
   "execution_count": null,
   "id": "exempt-shuttle",
   "metadata": {},
   "outputs": [
    {
     "name": "stdout",
     "output_type": "stream",
     "text": [
      "saving timing info\n",
      "Depth = 1\n",
      "current graph:  [('ROOT', {'W': 0.0}), ('E1', {'W': 1.0})]\n",
      "Depth = 2\n",
      "Current best architecture:  E1\n",
      "max W: 1.0\n",
      "Depth = 3\n",
      "Current best architecture:  E1:ZZ\n",
      "max W: 1.7065785107969043\n",
      "Depth = 4\n",
      "Prune Tree\n",
      "Current best architecture:  E1:ZZ:X\n",
      "max W: 2.0478665579541575\n",
      "Grow Pruned Tree\n",
      "Depth = 5\n",
      "Grow Tree\n",
      "Current best architecture:  E1:ZZ:X\n",
      "max W: 2.0478665579541575\n",
      "Depth = 6\n",
      "Grow Tree\n",
      "Current best architecture:  E1:ZZ:Y:X:Y\n",
      "max W: 2.559757666244391\n"
     ]
    }
   ],
   "source": [
    "# Execute the algorithm\n",
    "run_tree_architecture_search(config)"
   ]
  },
  {
   "cell_type": "markdown",
   "id": "sporting-mexican",
   "metadata": {},
   "source": [
    "### Try running a loop over some hyper_parameters\n",
    "\n",
    "This uses the circuit classifer built during the Challenge -- the circuit and QNode is constructed inside the function `classify_data`\n",
    "\n",
    "The following characteristics are hard wired inside the function `classify_data`:\n",
    "* number of qubits (3)\n",
    "* number of rotation gates (6)\n",
    "* the initialization used for the rotations and weights (rotations intialized with 0, weights initialized with random numbers drawn uniformly from $[-2.5,2.5]$\n",
    "* the rotation gates that are trained (RY)\n",
    "* the rotation gates used in the `AngleEmbeddding` (RY)\n",
    "* the optimizer (`AdamOptimizer`)\n",
    "\n",
    "The following parameters are passed as keywords:\n",
    "* `s` (the number of steps to train for)\n",
    "* `batch_size` (the batch size used in training)\n",
    "* `learning_rate` (the initial learning rate for Adam)\n",
    "\n",
    "As in (de Wynter 2020) we only train each circuit for a few steps (here I'm using 10).  In (de Wynter 2020) the error rate surrogate is defined using a loss function evaluated over a subset of the data -- here I'm using the accuracy of assigned labels over the test data.  The full number of samples that I generated for the dataset is given by `n_samples` (above).  I've split that data in to train,test sets. "
   ]
  },
  {
   "cell_type": "markdown",
   "id": "proved-sterling",
   "metadata": {},
   "source": [
    "### Try running a loop over some hyper_parameters\n",
    "\n",
    "This time use a circuit (QNode) that is created outside the function and passed as an argument\n",
    "\n",
    "Things that are still hard-wired inside the `train_circuit` function:\n",
    "* Optimizer choice\n",
    "* Initialization choice (same as above)\n"
   ]
  },
  {
   "cell_type": "code",
   "execution_count": null,
   "id": "worthy-clothing",
   "metadata": {},
   "outputs": [],
   "source": [
    "def variational_circuit(params,features=None):\n",
    "    r_ = QUBITS//len(features)\n",
    "    large_features = np.tile(features,r_)\n",
    "    qml.templates.embeddings.AngleEmbedding(large_features, wires=range(QUBITS), rotation='Y') # replace with more general embedding\n",
    "    if len(params)%QUBITS!=0:\n",
    "        print('chooose parameter length that is divisible by number of qubits')\n",
    "        return\n",
    "    W= np.reshape(params,(len(params)//QUBITS,QUBITS))\n",
    "    qml.templates.layers.BasicEntanglerLayers(W, wires=range(QUBITS), rotation=qml.ops.RY)\n",
    "    return [qml.expval(qml.PauliZ(idx)) for idx in range(QUBITS)]\n"
   ]
  },
  {
   "cell_type": "code",
   "execution_count": null,
   "id": "communist-audit",
   "metadata": {},
   "outputs": [],
   "source": [
    "qubit_sizes=[2,4]\n",
    "batch_sets = [2,4,8,16,32]\n",
    "learning_rates = [0.001,0.005,0.01,0.05]\n",
    "hyperparameters = list(itertools.product(batch_sets,learning_rates))\n",
    "print(hyperparameters)\n",
    "results = {}\n",
    "Wmax = 0.0\n",
    "for qdx in qubit_sizes:\n",
    "    QUBITS=qdx\n",
    "    dev = qml.device(\"default.qubit\",wires=QUBITS)\n",
    "    # Instantiate the QNode\n",
    "    outside_circuit = qml.QNode(func=variational_circuit,device=dev)\n",
    "    n_params=2*QUBITS\n",
    "    for idx,sdx in hyperparameters:\n",
    "        p,i,er,wtemp,weights=train_circuit(outside_circuit,n_params,qdx,X_train,Y_train,s=5,batch_size=idx,rate_type='accuracy',learning_rate=sdx)\n",
    "        print(p,i,er,wtemp,weights)\n",
    "        if wtemp>=Wmax:\n",
    "            Wmax=wtemp\n",
    "            saved_weights = weights\n",
    "            output = (idx,sdx,p,i,er)\n",
    "print(\"Max W coef: \", Wmax)\n",
    "print(\"saved weights: \",saved_weights)\n",
    "print(\"hyperparameters: \",output[0],output[1])\n",
    "print(\"variables (p,i,er): \",p,i,er)"
   ]
  },
  {
   "cell_type": "code",
   "execution_count": null,
   "id": "international-brick",
   "metadata": {},
   "outputs": [],
   "source": [
    "loop_over_hyperparameters(outside_circuit,4,X_train,Y_train,batch_sets=[2,4,8,16,32],learning_rates=[0.001,0.005,0.01,0.05],s=5,rate_type='accuracy')"
   ]
  },
  {
   "cell_type": "markdown",
   "id": "cross-trade",
   "metadata": {},
   "source": [
    "### Pull in more detailed circuit design"
   ]
  },
  {
   "cell_type": "code",
   "execution_count": null,
   "id": "capable-grass",
   "metadata": {},
   "outputs": [],
   "source": [
    "import sys\n",
    "import pennylane as qml\n",
    "import sklearn as skl\n",
    "import autograd.numpy as np\n",
    "import itertools\n",
    "import time"
   ]
  },
  {
   "cell_type": "code",
   "execution_count": null,
   "id": "functional-national",
   "metadata": {},
   "outputs": [],
   "source": [
    "\n",
    "\n",
    "def zz_layer(wires, params):\n",
    "    nq = len(wires)\n",
    "    for n in range(nq - 1):\n",
    "        zz_gate([n, n + 1], params[n])\n",
    "    zz_gate([nq - 1, 0], params[nq - 1])\n",
    "\n",
    "\n",
    "def zz_gate(wires, gamma):\n",
    "    if isinstance(gamma,(float,qml.variable.Variable)):\n",
    "        qml.CNOT(wires=wires)\n",
    "        qml.RZ(gamma, wires=wires[1])\n",
    "        qml.CNOT(wires=wires)\n",
    "    else:\n",
    "        qml.CNOT(wires=wires)\n",
    "        qml.RZ(gamma._value, wires=wires[1])\n",
    "        qml.CNOT(wires=wires)\n",
    "\n",
    "def CNOT_layer(wires):\n",
    "    nq = len(wires)\n",
    "    for n in range(nq-1):\n",
    "        qml.CNOT(wires=[n,n+1])\n",
    "    qml.CNOT(wires=[nq-1,0])\n",
    "\n",
    "def x_layer(wires, params):\n",
    "    nqubits = len(wires)\n",
    "    if isinstance(params,(list,np.ndarray,qml.variable.Variable)):\n",
    "        for n in range(nqubits):\n",
    "            qml.RX(params[n], wires=[n, ])\n",
    "    else:\n",
    "        for n in range(nqubits):\n",
    "            qml.RX(params[n]._value, wires=[n, ])\n",
    "\n",
    "\n",
    "def y_layer(wires, params):\n",
    "    nqubits = len(wires)\n",
    "    if isinstance(params,(list,np.ndarray,qml.variable.Variable)):\n",
    "        for n in range(nqubits):\n",
    "            qml.RY(params[n], wires=[n, ])\n",
    "    else:\n",
    "        for n in range(nqubits):\n",
    "            qml.RY(params[n]._value, wires=[n, ])\n",
    "\n",
    "#TODO: ADD W-COST HERE\n",
    "\n",
    "string_to_layer_mapping = {'ZZ': zz_layer, 'X': x_layer, 'Y': y_layer}"
   ]
  },
  {
   "cell_type": "code",
   "execution_count": null,
   "id": "naval-fishing",
   "metadata": {},
   "outputs": [],
   "source": [
    "\n",
    "def string2circuit(gate_params=[],features=[],arch_params=[],n_wires=None):\n",
    "    string_to_param_count = {'E1':0,'ZZ':n_wires,'X':n_wires,'Y':n_wires}\n",
    "    pdx = 0\n",
    "    for gdx in arch_params:\n",
    "        if gdx=='E1':\n",
    "            r_ = n_wires//len(features)\n",
    "            large_features = np.tile(features,r_)\n",
    "            qml.templates.embeddings.AngleEmbedding(large_features, wires=range(n_wires), rotation='Y') # replace with more general embedding\n",
    "            qml.templates.embeddings.AngleEmbedding(features, wires=range(n_wires), rotation='Y') # replace with more general embedding\n",
    "        elif gdx=='ZZ':\n",
    "            #w = gate_params[pdx:pdx+n_wires]\n",
    "            #zz_layer(range(n_wires),w)\n",
    "            CNOT_layer(range(n_wires))\n",
    "            #pdx+=n_wires\n",
    "        elif gdx=='X':\n",
    "            w = gate_params[pdx:pdx+n_wires]\n",
    "            x_layer(range(n_wires),w)\n",
    "            pdx+=n_wires\n",
    "        elif gdx=='Y':\n",
    "            w = gate_params[pdx:pdx+n_wires]\n",
    "            y_layer(range(n_wires),w)\n",
    "            pdx+=n_wires\n",
    "    return [qml.expval(qml.PauliZ(idx)) for idx in range(n_wires)]\n",
    "    "
   ]
  },
  {
   "cell_type": "code",
   "execution_count": null,
   "id": "aquatic-terrace",
   "metadata": {},
   "outputs": [],
   "source": [
    "batch_sets = [2,4]\n",
    "learning_rates = [0.001,0.005]\n",
    "hyperparameters = list(itertools.product(batch_sets,learning_rates))\n",
    "print(hyperparameters)\n",
    "results = {}\n",
    "Wmax = 0.0\n",
    "\n",
    "ARCH = ['E1','ZZ','Y','ZZ','Y','ZZ','Y','ZZ','Y','ZZ','Y']\n",
    "WIRES = 2\n",
    "def temp_circuit(w,features=None): return string2circuit(gate_params=w,features=features,arch_params=ARCH,n_wires=WIRES)\n",
    "\n",
    " \n",
    "dev = qml.device(\"default.qubit\",wires=WIRES)\n",
    "outside_circuit = qml.QNode(temp_circuit,device=dev)\n",
    "\n",
    "#if using zz-layer, use this line\n",
    "#n_params=np.sum([WIRES for x in ARCH if (x!='E1')])\n",
    "#if useing CNOT-layer, use this line\n",
    "n_params=np.sum([WIRES for x in ARCH if (x=='X') or (x=='Y')])\n",
    "print(n_params)\n",
    "for idx,sdx in hyperparameters:\n",
    "    p,i,er,wtemp,weights=train_circuit(outside_circuit,n_params,WIRES,X_train,Y_train,s=5,batch_size=idx,rate_type='batch_cost',learning_rate=sdx)\n",
    "    print('final weights:',weights)\n",
    "    print(p,i,er,wtemp,weights)\n",
    "    if wtemp>=Wmax:\n",
    "        Wmax=wtemp\n",
    "        saved_weights = weights\n",
    "        output = (idx,sdx,p,i,er)\n",
    "print(\"Max W coef: \", Wmax)\n",
    "print(\"saved weights: \",saved_weights)\n",
    "print(\"hyperparameters: \",output[0],output[1])\n",
    "print(\"variables (p,i,er): \",p,i,er)"
   ]
  },
  {
   "cell_type": "code",
   "execution_count": null,
   "id": "european-batman",
   "metadata": {},
   "outputs": [],
   "source": []
  }
 ],
 "metadata": {
  "kernelspec": {
   "display_name": "Python 3",
   "language": "python",
   "name": "python3"
  },
  "language_info": {
   "codemirror_mode": {
    "name": "ipython",
    "version": 3
   },
   "file_extension": ".py",
   "mimetype": "text/x-python",
   "name": "python",
   "nbconvert_exporter": "python",
   "pygments_lexer": "ipython3",
   "version": "3.7.3"
  }
 },
 "nbformat": 4,
 "nbformat_minor": 5
}
