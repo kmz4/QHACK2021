{
 "cells": [
  {
   "cell_type": "code",
   "execution_count": 2,
   "metadata": {},
   "outputs": [
    {
     "data": {
      "text/html": [
       "<style>.container { width:95% !important; }</style>"
      ],
      "text/plain": [
       "<IPython.core.display.HTML object>"
      ]
     },
     "metadata": {},
     "output_type": "display_data"
    }
   ],
   "source": [
    "%config Completer.use_jedi = False\n",
    "from IPython.core.display import display, HTML\n",
    "display(HTML(\"<style>.container { width:95% !important; }</style>\"))"
   ]
  },
  {
   "cell_type": "code",
   "execution_count": 6,
   "metadata": {},
   "outputs": [
    {
     "ename": "ModuleNotFoundError",
     "evalue": "No module named 'pennylane'",
     "output_type": "error",
     "traceback": [
      "\u001b[0;31m---------------------------------------------------------------------------\u001b[0m",
      "\u001b[0;31mModuleNotFoundError\u001b[0m                       Traceback (most recent call last)",
      "\u001b[0;32m<ipython-input-6-9c5455977947>\u001b[0m in \u001b[0;36m<module>\u001b[0;34m\u001b[0m\n\u001b[1;32m      1\u001b[0m \u001b[0;32mimport\u001b[0m \u001b[0mos\u001b[0m\u001b[0;34m,\u001b[0m \u001b[0mpickle\u001b[0m\u001b[0;34m\u001b[0m\u001b[0;34m\u001b[0m\u001b[0m\n\u001b[1;32m      2\u001b[0m \u001b[0mos\u001b[0m\u001b[0;34m.\u001b[0m\u001b[0mchdir\u001b[0m\u001b[0;34m(\u001b[0m\u001b[0;34m'/home/jelena/Dokumente/OpenQHack/src'\u001b[0m\u001b[0;34m)\u001b[0m\u001b[0;34m\u001b[0m\u001b[0;34m\u001b[0m\u001b[0m\n\u001b[0;32m----> 3\u001b[0;31m \u001b[0;32mfrom\u001b[0m \u001b[0msubarchitecture_tree_search\u001b[0m \u001b[0;32mimport\u001b[0m \u001b[0;34m*\u001b[0m\u001b[0;34m\u001b[0m\u001b[0;34m\u001b[0m\u001b[0m\n\u001b[0m",
      "\u001b[0;32m~/Dokumente/OpenQHack/src/subarchitecture_tree_search.py\u001b[0m in \u001b[0;36m<module>\u001b[0;34m\u001b[0m\n\u001b[0;32m----> 1\u001b[0;31m \u001b[0;32mimport\u001b[0m \u001b[0mpennylane\u001b[0m \u001b[0;32mas\u001b[0m \u001b[0mqml\u001b[0m\u001b[0;34m\u001b[0m\u001b[0;34m\u001b[0m\u001b[0m\n\u001b[0m\u001b[1;32m      2\u001b[0m \u001b[0;32mfrom\u001b[0m \u001b[0mpennylane\u001b[0m \u001b[0;32mimport\u001b[0m \u001b[0mnumpy\u001b[0m \u001b[0;32mas\u001b[0m \u001b[0mnp\u001b[0m\u001b[0;34m\u001b[0m\u001b[0;34m\u001b[0m\u001b[0m\n\u001b[1;32m      3\u001b[0m \u001b[0;34m\u001b[0m\u001b[0m\n\u001b[1;32m      4\u001b[0m \u001b[0;32mimport\u001b[0m \u001b[0mnetworkx\u001b[0m \u001b[0;32mas\u001b[0m \u001b[0mnx\u001b[0m\u001b[0;34m\u001b[0m\u001b[0;34m\u001b[0m\u001b[0m\n\u001b[1;32m      5\u001b[0m \u001b[0;34m\u001b[0m\u001b[0m\n",
      "\u001b[0;31mModuleNotFoundError\u001b[0m: No module named 'pennylane'"
     ]
    }
   ],
   "source": [
    "import os, pickle\n",
    "os.chdir('/home/jelena/Dokumente/OpenQHack/src')\n",
    "from subarchitecture_tree_search import *"
   ]
  },
  {
   "cell_type": "markdown",
   "metadata": {},
   "source": [
    "## First example\n",
    "\n",
    "The first example builds a circuit classifier for the moons dataset available in sklearn.  The architecture consists of:\n",
    "\n",
    "`Encoding` -> `Parameterized Layers` -> `One Hot Encoding`\n",
    "\n",
    "The tree will iteratively grow the parameterized layers through the addition of:\n",
    "* Layers of RX gates\n",
    "* Layers of ZZ gates\n",
    "* Layers of RY gates"
   ]
  },
  {
   "cell_type": "code",
   "execution_count": 1,
   "metadata": {},
   "outputs": [
    {
     "ename": "NameError",
     "evalue": "name 'os' is not defined",
     "output_type": "error",
     "traceback": [
      "\u001b[0;31m---------------------------------------------------------------------------\u001b[0m",
      "\u001b[0;31mNameError\u001b[0m                                 Traceback (most recent call last)",
      "\u001b[0;32m<ipython-input-1-b034051f7c25>\u001b[0m in \u001b[0;36m<module>\u001b[0;34m\u001b[0m\n\u001b[1;32m      3\u001b[0m \u001b[0;34m\u001b[0m\u001b[0m\n\u001b[1;32m      4\u001b[0m \u001b[0;31m# Create a directory to store the data\u001b[0m\u001b[0;34m\u001b[0m\u001b[0;34m\u001b[0m\u001b[0;34m\u001b[0m\u001b[0m\n\u001b[0;32m----> 5\u001b[0;31m \u001b[0;32mif\u001b[0m \u001b[0;32mnot\u001b[0m \u001b[0mos\u001b[0m\u001b[0;34m.\u001b[0m\u001b[0mpath\u001b[0m\u001b[0;34m.\u001b[0m\u001b[0mexists\u001b[0m\u001b[0;34m(\u001b[0m\u001b[0;34m'data'\u001b[0m\u001b[0;34m)\u001b[0m\u001b[0;34m:\u001b[0m\u001b[0;34m\u001b[0m\u001b[0;34m\u001b[0m\u001b[0m\n\u001b[0m\u001b[1;32m      6\u001b[0m     \u001b[0mos\u001b[0m\u001b[0;34m.\u001b[0m\u001b[0mmkdir\u001b[0m\u001b[0;34m(\u001b[0m\u001b[0;34m'data/'\u001b[0m\u001b[0;34m)\u001b[0m\u001b[0;34m\u001b[0m\u001b[0;34m\u001b[0m\u001b[0m\n\u001b[1;32m      7\u001b[0m \u001b[0;34m\u001b[0m\u001b[0m\n",
      "\u001b[0;31mNameError\u001b[0m: name 'os' is not defined"
     ]
    }
   ],
   "source": [
    "# Create a unique name for your experiment\n",
    "EXPERIMENT_NAME = 'one_hot'\n",
    "\n",
    "# Create a directory to store the data\n",
    "if not os.path.exists('data'):\n",
    "    os.mkdir('data/')\n",
    "\n",
    "data_path = f'data/{EXPERIMENT_NAME}'\n",
    "if not os.path.exists(data_path):\n",
    "    os.mkdir(data_path)\n",
    "\n",
    "# Create a configuration file for the tree prune algorithm\n",
    "config = {'nqubits': 2,\n",
    "          'min_tree_depth': 4,\n",
    "          'max_tree_depth': 6,\n",
    "          'prune_rate': 0.2,\n",
    "          'prune_step': 3,\n",
    "          'plot_trees': False,\n",
    "          'data_set': 'moons',\n",
    "          'nsteps': 5,\n",
    "          'optim': qml.GradientDescentOptimizer,\n",
    "          'batch_sizes': [8,16,32],\n",
    "          'n_samples': 1500,\n",
    "          'learning_rates': [0.001,0.005,0.01],\n",
    "          'save_frequency': 1,\n",
    "          'save_path': data_path,\n",
    "          'save_timing': True,\n",
    "          'circuit_type':'schuld',\n",
    "          'Tmax': [100,100,100],\n",
    "          'inf_time':'timeit',\n",
    "          'fill':'redundant', # or 'pad'\n",
    "          'rate_type': 'accuracy', # or 'batch_cost'\n",
    "          'readout_layer': 'one_hot',  #or 'weighted_neuron'\n",
    "          }\n",
    "\n",
    "# Save the configuration file so that we can remember what we did\n",
    "with open(data_path + '/config.pickle', 'wb') as f:\n",
    "    pickle.dump(config, f)"
   ]
  },
  {
   "cell_type": "code",
   "execution_count": null,
   "metadata": {},
   "outputs": [
    {
     "name": "stdout",
     "output_type": "stream",
     "text": [
      "saving timing info\n",
      "Depth = 1\n",
      "current graph:  [('ROOT', {'W': 0.0}), ('E1', {'W': 1.0})]\n",
      "Depth = 2\n",
      "Current best architecture:  E1\n",
      "max W: 1.0\n"
     ]
    }
   ],
   "source": [
    "# Execute the algorithm\n",
    "run_tree_architecture_search(config)"
   ]
  },
  {
   "cell_type": "markdown",
   "metadata": {},
   "source": [
    "### Try running a loop over some hyper_parameters\n",
    "\n",
    "This uses the circuit classifer built during the Challenge -- the circuit and QNode is constructed inside the function `classify_data`\n",
    "\n",
    "The following characteristics are hard wired inside the function `classify_data`:\n",
    "* number of qubits (3)\n",
    "* number of rotation gates (6)\n",
    "* the initialization used for the rotations and weights (rotations intialized with 0, weights initialized with random numbers drawn uniformly from $[-2.5,2.5]$\n",
    "* the rotation gates that are trained (RY)\n",
    "* the rotation gates used in the `AngleEmbeddding` (RY)\n",
    "* the optimizer (`AdamOptimizer`)\n",
    "\n",
    "The following parameters are passed as keywords:\n",
    "* `s` (the number of steps to train for)\n",
    "* `batch_size` (the batch size used in training)\n",
    "* `learning_rate` (the initial learning rate for Adam)\n",
    "\n",
    "As in (de Wynter 2020) we only train each circuit for a few steps (here I'm using 10).  In (de Wynter 2020) the error rate surrogate is defined using a loss function evaluated over a subset of the data -- here I'm using the accuracy of assigned labels over the test data.  The full number of samples that I generated for the dataset is given by `n_samples` (above).  I've split that data in to train,test sets. "
   ]
  },
  {
   "cell_type": "markdown",
   "metadata": {},
   "source": [
    "### Try running a loop over some hyper_parameters\n",
    "\n",
    "This time use a circuit (QNode) that is created outside the function and passed as an argument\n",
    "\n",
    "Things that are still hard-wired inside the `train_circuit` function:\n",
    "* Optimizer choice\n",
    "* Initialization choice (same as above)\n"
   ]
  },
  {
   "cell_type": "code",
   "execution_count": null,
   "metadata": {},
   "outputs": [],
   "source": [
    "test = [2,3]\n",
    "np.pad(test,(0,5),'constant',constant_values=0)\n",
    "\n",
    "print(*np.ones(*5))"
   ]
  },
  {
   "cell_type": "markdown",
   "metadata": {},
   "source": [
    "### Pull in more detailed circuit design"
   ]
  },
  {
   "cell_type": "code",
   "execution_count": null,
   "metadata": {},
   "outputs": [],
   "source": []
  }
 ],
 "metadata": {
  "kernelspec": {
   "display_name": "Python 3",
   "language": "python",
   "name": "python3"
  },
  "language_info": {
   "codemirror_mode": {
    "name": "ipython",
    "version": 3
   },
   "file_extension": ".py",
   "mimetype": "text/x-python",
   "name": "python",
   "nbconvert_exporter": "python",
   "pygments_lexer": "ipython3",
   "version": "3.7.4"
  }
 },
 "nbformat": 4,
 "nbformat_minor": 5
}
