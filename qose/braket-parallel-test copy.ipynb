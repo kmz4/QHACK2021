{
 "cells": [
  {
   "cell_type": "markdown",
   "metadata": {},
   "source": [
    "This basic demo shows the power of using parallization. We see a drastic reduction in time when we run a large QOSE problem on AWS SV1 simulator is quicker which parallelizes on 10 processors by default. "
   ]
  },
  {
   "cell_type": "code",
   "execution_count": 1,
   "metadata": {},
   "outputs": [],
   "source": [
    "import pennylane as qml\n",
    "from pennylane import numpy as np\n",
    "import networkx as nx"
   ]
  },
  {
   "cell_type": "code",
   "execution_count": 2,
   "metadata": {},
   "outputs": [],
   "source": [
    "from subarchitecture_tree_search import run_tree_architecture_search"
   ]
  },
  {
   "cell_type": "code",
   "execution_count": 3,
   "metadata": {},
   "outputs": [],
   "source": [
    "import os\n",
    "import pickle\n",
    "import time"
   ]
  },
  {
   "cell_type": "code",
   "execution_count": 6,
   "metadata": {},
   "outputs": [],
   "source": [
    "    # Create a unique name for your experiment\n",
    "    EXPERIMENT_NAME = 'LocalvsRemoteTree'\n",
    "\n",
    "    # Create a directory to store the data\n",
    "    if not os.path.exists('data'):\n",
    "        os.mkdir('data/')\n",
    "\n",
    "    data_path = f'data/{EXPERIMENT_NAME}'\n",
    "    if not os.path.exists(data_path):\n",
    "        os.mkdir(data_path)"
   ]
  },
  {
   "cell_type": "code",
   "execution_count": 9,
   "metadata": {},
   "outputs": [],
   "source": [
    "   config = {'nqubits': 2,\n",
    "             'embedding': 'E1',\n",
    "              'min_tree_depth': 3,\n",
    "              'max_tree_depth': 10,\n",
    "              'prune_rate': 0.3,\n",
    "              'prune_step': 2,\n",
    "              'plot_trees': False,\n",
    "              'data_set': 'moons',\n",
    "              'nsteps': 8,\n",
    "              'optim': qml.AdamOptimizer,\n",
    "              'batch_sizes': [8],\n",
    "              'n_samples': 1000,\n",
    "              'learning_rates': [0.1],\n",
    "              'save_frequency': 1,\n",
    "              'save_path': data_path,\n",
    "              'save_timing': False,\n",
    "              'circuit_type':'schuld',\n",
    "              'Tmax': [100, 100],\n",
    "              'inf_time':'timeit',\n",
    "              'fill':'redundant', # or 'pad'\n",
    "              'rate_type': 'batch_cost', # 'accuracy' or 'batch_cost'\n",
    "              'readout_layer': 'one_hot',  #'one_hot' or 'weighted_neuron'\n",
    "              }"
   ]
  },
  {
   "cell_type": "code",
   "execution_count": 10,
   "metadata": {},
   "outputs": [],
   "source": [
    "    with open(data_path + '/config.pickle', 'wb') as f:\n",
    "        pickle.dump(config, f)"
   ]
  },
  {
   "cell_type": "code",
   "execution_count": 15,
   "metadata": {},
   "outputs": [
    {
     "name": "stdout",
     "output_type": "stream",
     "text": [
      "Depth = 1\n",
      "Depth = 2\n",
      "Current best architecture:  E1\n",
      "max W: 1.0\n",
      "weights: []\n",
      "Training leaf E1:ZZ\n",
      "Training leaf E1:X\n",
      "Training leaf E1:Y\n",
      "Training leaf E1:Z\n",
      "Depth = 3\n",
      "Prune Tree\n",
      "Current best architecture:  E1:X\n",
      "max W: 1.7874499219014384\n",
      "weights: [[0.5561024]\n",
      " [0.7907875]]\n",
      "Grow Pruned Tree\n",
      "Depth = 4\n",
      "Grow Tree\n",
      "Current best architecture:  E1:Y:ZZ\n",
      "max W: 2.3080829139720294\n",
      "weights: [[5.75231197e-01 3.71249546e-10]\n",
      " [5.32430618e-01 4.25749630e-10]]\n",
      "Depth = 5\n",
      "Prune Tree\n",
      "Current best architecture:  E1:X:Z:X\n",
      "max W: 3.441676657217613\n",
      "weights: [[ 0.60197558 -0.58387127  0.61579389]\n",
      " [ 0.56213822 -0.21373734  0.56414328]]\n",
      "Grow Pruned Tree\n",
      "Depth = 6\n",
      "Grow Tree\n",
      "Current best architecture:  E1:X:Z:X\n",
      "max W: 3.441676657217613\n",
      "weights: [[ 0.60197558 -0.58387127  0.61579389]\n",
      " [ 0.56213822 -0.21373734  0.56414328]]\n",
      "Depth = 7\n",
      "Prune Tree\n",
      "Current best architecture:  E1:Y:Z:Y:X:Y\n",
      "max W: 5.23666134375948\n",
      "weights: [[ 0.47371895 -0.17077099  0.47104626  0.43945901  0.47142415]\n",
      " [ 0.71785698 -0.06513033  0.71413201  0.63769958  0.71047512]]\n",
      "Grow Pruned Tree\n",
      "Depth = 8\n",
      "Grow Tree\n",
      "Current best architecture:  E1:Y:ZZ:Z:Y:Z:Y\n",
      "max W: 7.375912621731646\n",
      "weights: [[ 0.45043056 -0.01263857  0.10232243  0.45347881  0.00780164  0.45290941]\n",
      " [ 0.73633619 -0.01263857  0.21583031  0.73913509  0.01431552  0.73859604]]\n",
      "Depth = 9\n",
      "Prune Tree\n",
      "Current best architecture:  E1:X:Y:X:Y:X:ZZ:Y\n",
      "max W: 14.887928902768524\n",
      "weights: [[0.51165173 0.49271287 0.50951539 0.49453426 0.5070749  0.57926377\n",
      "  0.52298519]\n",
      " [0.55514639 0.5463973  0.55640298 0.54521558 0.55739971 0.57926377\n",
      "  0.55248128]]\n",
      "Grow Pruned Tree\n",
      "architecture with max W:  E1:X:Y:X:Y:X:ZZ:Y\n",
      "max W: 14.887928902768524\n",
      "weights:  [[0.51165173 0.49271287 0.50951539 0.49453426 0.5070749  0.57926377\n",
      "  0.52298519]\n",
      " [0.55514639 0.5463973  0.55640298 0.54521558 0.55739971 0.57926377\n",
      "  0.55248128]]\n"
     ]
    }
   ],
   "source": [
    "t_0_local = time.time()\n",
    "run_tree_architecture_search(config, \"local\")\n",
    "t_1_local = time.time()\n"
   ]
  },
  {
   "cell_type": "code",
   "execution_count": 16,
   "metadata": {},
   "outputs": [
    {
     "name": "stdout",
     "output_type": "stream",
     "text": [
      "Execution time on local device (seconds): 2054.9120540618896\n"
     ]
    }
   ],
   "source": [
    "print(\"Execution time on local device (seconds):\", t_1_local - t_0_local)"
   ]
  },
  {
   "cell_type": "code",
   "execution_count": null,
   "metadata": {},
   "outputs": [
    {
     "name": "stdout",
     "output_type": "stream",
     "text": [
      "Depth = 1\n",
      "Depth = 2\n",
      "Current best architecture:  E1\n",
      "max W: 1.0\n",
      "weights: []\n",
      "Training leaf E1:ZZ\n"
     ]
    },
    {
     "name": "stderr",
     "output_type": "stream",
     "text": [
      "WARNING:braket.aws.aws_quantum_task:Task arn:aws:braket:us-east-1:604324349085:quantum-task/a362ab7b-effd-4c04-b353-84b1ae9c20a6: polling for task completion timed out after 30.640207767486572 seconds. Please increase the timeout; this can be done by creating a new AwsQuantumTask with this task's ARN and a higher value for the `poll_timeout_seconds` parameter.\n"
     ]
    },
    {
     "name": "stdout",
     "output_type": "stream",
     "text": [
      "Training leaf E1:X\n",
      "Training leaf E1:Y\n",
      "Training leaf E1:Z\n",
      "Depth = 3\n",
      "Prune Tree\n",
      "Current best architecture:  E1:ZZ\n",
      "max W: 9.104020876663244\n",
      "weights: [[-1.08133660e-09]\n",
      " [-1.25719488e-09]]\n",
      "Grow Pruned Tree\n"
     ]
    },
    {
     "name": "stderr",
     "output_type": "stream",
     "text": [
      "WARNING:braket.aws.aws_quantum_task:Task arn:aws:braket:us-east-1:604324349085:quantum-task/5961b028-182f-436b-b57c-0e976223ef44: polling for task completion timed out after 30.971379041671753 seconds. Please increase the timeout; this can be done by creating a new AwsQuantumTask with this task's ARN and a higher value for the `poll_timeout_seconds` parameter.\n",
      "WARNING:braket.aws.aws_quantum_task:Task arn:aws:braket:us-east-1:604324349085:quantum-task/f45e4cef-7017-455d-8afb-8d866142f4f5: polling for task completion timed out after 30.94561505317688 seconds. Please increase the timeout; this can be done by creating a new AwsQuantumTask with this task's ARN and a higher value for the `poll_timeout_seconds` parameter.\n"
     ]
    },
    {
     "name": "stdout",
     "output_type": "stream",
     "text": [
      "Depth = 4\n",
      "Grow Tree\n",
      "Current best architecture:  E1:ZZ\n",
      "max W: 9.104020876663244\n",
      "weights: [[-1.08133660e-09]\n",
      " [-1.25719488e-09]]\n"
     ]
    },
    {
     "name": "stderr",
     "output_type": "stream",
     "text": [
      "WARNING:braket.aws.aws_quantum_task:Task arn:aws:braket:us-east-1:604324349085:quantum-task/bd65d1a7-4472-4648-a4e0-8394ed4502d8: polling for task completion timed out after 30.18982696533203 seconds. Please increase the timeout; this can be done by creating a new AwsQuantumTask with this task's ARN and a higher value for the `poll_timeout_seconds` parameter.\n",
      "WARNING:braket.aws.aws_quantum_task:Task arn:aws:braket:us-east-1:604324349085:quantum-task/06cea70b-6e35-4dd4-ad4e-b1e2ca3c10c5: polling for task completion timed out after 30.805460929870605 seconds. Please increase the timeout; this can be done by creating a new AwsQuantumTask with this task's ARN and a higher value for the `poll_timeout_seconds` parameter.\n",
      "WARNING:braket.aws.aws_quantum_task:Task arn:aws:braket:us-east-1:604324349085:quantum-task/5768e712-212b-4be5-aa1c-7e2727f3e03d: polling for task completion timed out after 30.01006007194519 seconds. Please increase the timeout; this can be done by creating a new AwsQuantumTask with this task's ARN and a higher value for the `poll_timeout_seconds` parameter.\n"
     ]
    }
   ],
   "source": [
    "\n",
    "t_0_remote = time.time()\n",
    "run_tree_architecture_search(config, \"remote\")\n",
    "t_1_remote = time.time()\n"
   ]
  },
  {
   "cell_type": "code",
   "execution_count": null,
   "metadata": {},
   "outputs": [],
   "source": [
    "print(\"Execution time on remote device (seconds):\", t_1_remote - t_0_remote)\n"
   ]
  },
  {
   "cell_type": "code",
   "execution_count": null,
   "metadata": {},
   "outputs": [],
   "source": [
    "with open(data_path + '/tree_depth_2.pickle', \"rb\") as f:\n",
    "        results = pickle.load(f)"
   ]
  },
  {
   "cell_type": "code",
   "execution_count": null,
   "metadata": {},
   "outputs": [],
   "source": []
  },
  {
   "cell_type": "code",
   "execution_count": null,
   "metadata": {},
   "outputs": [],
   "source": [
    "\n",
    "    restore_depth = 3\n",
    "    with open(data_path + f'/tree_depth_{restore_depth}.pickle', 'rb') as f:\n",
    "        G = pickle.load(f)\n",
    "  "
   ]
  },
  {
   "cell_type": "code",
   "execution_count": null,
   "metadata": {},
   "outputs": [],
   "source": [
    "nx.get_node_attributes(G, 'W')"
   ]
  },
  {
   "cell_type": "code",
   "execution_count": null,
   "metadata": {},
   "outputs": [],
   "source": [
    "2+2"
   ]
  },
  {
   "cell_type": "code",
   "execution_count": null,
   "metadata": {},
   "outputs": [],
   "source": []
  }
 ],
 "metadata": {
  "kernelspec": {
   "display_name": "Python 3",
   "language": "python",
   "name": "python3"
  },
  "language_info": {
   "codemirror_mode": {
    "name": "ipython",
    "version": 3
   },
   "file_extension": ".py",
   "mimetype": "text/x-python",
   "name": "python",
   "nbconvert_exporter": "python",
   "pygments_lexer": "ipython3",
   "version": "3.7.9"
  }
 },
 "nbformat": 4,
 "nbformat_minor": 1
}
