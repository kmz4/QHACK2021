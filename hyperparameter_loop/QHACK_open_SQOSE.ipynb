{
 "cells": [
  {
   "cell_type": "code",
   "execution_count": 1,
   "id": "advisory-happiness",
   "metadata": {},
   "outputs": [
    {
     "data": {
      "text/html": [
       "<style>.container { width:98% !important; }</style>"
      ],
      "text/plain": [
       "<IPython.core.display.HTML object>"
      ]
     },
     "metadata": {},
     "output_type": "display_data"
    }
   ],
   "source": [
    "%config Completer.use_jedi = False\n",
    "from IPython.core.display import display, HTML\n",
    "display(HTML(\"<style>.container { width:98% !important; }</style>\"))"
   ]
  },
  {
   "cell_type": "code",
   "execution_count": 7,
   "id": "recent-psychiatry",
   "metadata": {},
   "outputs": [],
   "source": [
    "#! /usr/bin/python3\n",
    "\n",
    "import sys\n",
    "import pennylane as qml\n",
    "import numpy as np\n",
    "import sklearn as skl\n",
    "import autograd.numpy as np\n",
    "import itertools\n",
    "import time\n",
    "\n",
    "def train_circuit(circuit,n_params,X_train,Y_train,X_test,Y_test,inference='wall_clock',rate_type='accuracy',**kwargs):\n",
    "    \"\"\"Develop and train your very own variational quantum classifier.\n",
    "\n",
    "    Use the provided training data to train your classifier. The code you write\n",
    "    for this challenge should be completely contained within this function\n",
    "    between the # QHACK # comment markers. The number of qubits, choice of\n",
    "    variational ansatz, cost function, and optimization method are all to be\n",
    "    developed by you in this function.\n",
    "\n",
    "    Args:\n",
    "        circuit (qml.QNode): A circuit that you want to train\n",
    "        X_train (np.ndarray): An array of floats of size (M, n) to be used as training data.\n",
    "        Y_train (np.ndarray): An array of size (M,) which are the categorical labels\n",
    "            associated to the training data. The categories are labeled by -1, 0, and 1.\n",
    "        X_test (np.ndarray): An array of floats of (B, n) to serve as testing data.\n",
    "        kwargs: hyperparameters for the training (steps, batch_size, learning_rate)\n",
    "\n",
    "    Returns:\n",
    "        (p,i,e): The number of parameters, the inference time (time to evaluate the accuracy), error rate (accuracy on the test set)\n",
    "    \"\"\"\n",
    "\n",
    "    # Use this array to make a prediction for the labels of the data in X_test\n",
    "    predictions = []\n",
    "\n",
    "    # QHACK #\n",
    "\n",
    "    from autograd.numpy import exp,tanh\n",
    "\n",
    "    def hinge_loss(labels, predictions,type='L2'):\n",
    "        loss = 0\n",
    "        for l, p in zip(labels, predictions):\n",
    "            if type=='L1':\n",
    "                loss = loss + np.abs(l - p) # L1 loss\n",
    "            elif type=='L2':\n",
    "                loss = loss + (l - p) ** 2 # L2 loss\n",
    "        loss = loss/len(labels)\n",
    "        return loss\n",
    "\n",
    "    def accuracy(labels, predictions):\n",
    "\n",
    "        loss = 0\n",
    "        tol = 0.05\n",
    "        #tol = 0.1\n",
    "        for l, p in zip(labels, predictions):\n",
    "            if abs(l - p) < tol:\n",
    "                loss = loss + 1\n",
    "        loss = loss / len(labels)\n",
    "\n",
    "        return loss\n",
    "\n",
    "    def cost_fcn(params,circuit=None,ang_array=[], actual=[]):\n",
    "        '''\n",
    "        use MAE to start\n",
    "        '''\n",
    "        labels = {2:-1,1:1,0:0}\n",
    "        n = len(ang_array[0])\n",
    "        w = params[-n:]\n",
    "        theta = params[:-n]\n",
    "        predictions = [2.*(1.0/(1.0+exp(np.dot(-w,circuit(theta, angles=x)))))- 1. for x in ang_array]\n",
    "        return hinge_loss(actual, predictions)\n",
    "\n",
    "    var = np.hstack((np.zeros(n_params),5*np.random.random(X_train.shape[1])-2.5))\n",
    "    steps = kwargs['s']\n",
    "    batch_size = kwargs['batch_size']\n",
    "    num_train = len(Y_train)\n",
    "    validation_size = int(num_train//2)\n",
    "    opt = qml.AdamOptimizer(kwargs['learning_rate'])\n",
    "    start = time.time()\n",
    "    for _ in range(steps):\n",
    "        batch_index = np.random.randint(0, num_train, (batch_size,))\n",
    "        X_train_batch = X_train[batch_index]\n",
    "        Y_train_batch = Y_train[batch_index]\n",
    "        var,cost = opt.step_and_cost(lambda v: cost_fcn(v, circuit,X_train_batch, Y_train_batch), var)\n",
    "    end = time.time()\n",
    "    cost_time = (end-start)\n",
    "        \n",
    "    w = var[-X_train.shape[1]:]\n",
    "    theta = var[:-X_train.shape[1]]\n",
    "    \n",
    "    if rate_type =='accuracy':\n",
    "        start = time.time() # add in timeit function from Wbranch\n",
    "        predictions=[int(np.round(2.*(1.0/(1.0+exp(np.dot(-w,circuit(theta, angles=x)))))- 1.,0)) for x in X_test]\n",
    "        end = time.time()\n",
    "        if inference=='wall_clock':\n",
    "            inftime = (end-start)/len(X_test)\n",
    "        err_rate = 1.0 - accuracy(predictions,Y_test)\n",
    "    elif rate_type=='batch_cost':\n",
    "        err_rate = cost\n",
    "        inftime = cost_time\n",
    "    # QHACK #\n",
    "    W_ = np.abs((100.-len(var))/(100.))*np.abs((100.-inftime)/(100.))*(1./err_rate)\n",
    "    return len(var),inftime,err_rate,W_\n",
    "\n",
    "\n",
    "def classify_data(X_train,Y_train,X_test,Y_test,**kwargs):\n",
    "    \"\"\"Develop and train your very own variational quantum classifier.\n",
    "\n",
    "    Use the provided training data to train your classifier. The code you write\n",
    "    for this challenge should be completely contained within this function\n",
    "    between the # QHACK # comment markers. The number of qubits, choice of\n",
    "    variational ansatz, cost function, and optimization method are all to be\n",
    "    developed by you in this function.\n",
    "\n",
    "    Args:\n",
    "        X_train (np.ndarray): An array of floats of size (250, 3) to be used as training data.\n",
    "        Y_train (np.ndarray): An array of size (250,) which are the categorical labels\n",
    "            associated to the training data. The categories are labeled by -1, 0, and 1.\n",
    "        X_test (np.ndarray): An array of floats of (50, 3) to serve as testing data.\n",
    "\n",
    "    Returns:\n",
    "        str: The predicted categories of X_test, converted from a list of ints to a\n",
    "            comma-separated string.\n",
    "    \"\"\"\n",
    "\n",
    "    # Use this array to make a prediction for the labels of the data in X_test\n",
    "    predictions = []\n",
    "\n",
    "    # QHACK #\n",
    "\n",
    "    from autograd.numpy import exp,tanh\n",
    "\n",
    "    def statepreparation(a):\n",
    "        qml.templates.embeddings.AngleEmbedding(a, wires=range(3), rotation='Y')\n",
    "\n",
    "    def layer(W):\n",
    "        qml.templates.layers.BasicEntanglerLayers(W, wires=range(3), rotation=qml.ops.RY)\n",
    "\n",
    "    def hinge_loss(labels, predictions,type='L2'):\n",
    "        loss = 0\n",
    "        for l, p in zip(labels, predictions):\n",
    "            if type=='L1':\n",
    "                loss = loss + np.abs(l - p) # L1 loss\n",
    "            elif type=='L2':\n",
    "                loss = loss + (l - p) ** 2 # L2 loss\n",
    "        loss = loss/len(labels)\n",
    "        return loss\n",
    "\n",
    "    def accuracy(labels, predictions):\n",
    "\n",
    "        loss = 0\n",
    "        tol = 0.05\n",
    "        #tol = 0.1\n",
    "        for l, p in zip(labels, predictions):\n",
    "            if abs(l - p) < tol:\n",
    "                loss = loss + 1\n",
    "        loss = loss / len(labels)\n",
    "\n",
    "        return loss\n",
    "\n",
    "    def cost_fcn(params,circuit=None,ang_array=[], actual=[]):\n",
    "        '''\n",
    "        use MAE to start\n",
    "        '''\n",
    "        labels = {2:-1,1:1,0:0}\n",
    "        w = params[-3:]\n",
    "        theta = params[:-3]\n",
    "        predictions = [2.*(1.0/(1.0+exp(np.dot(-w,circuit(theta, angles=x)))))- 1. for x in ang_array]\n",
    "        return hinge_loss(actual, predictions)\n",
    "\n",
    "    dev = qml.device(\"default.qubit\", wires=3)\n",
    "    @qml.qnode(dev)\n",
    "    def inside_circuit(params,angles=None):\n",
    "        statepreparation(angles)\n",
    "        W= np.reshape(params,(len(params)//3,3))\n",
    "        layer(W)\n",
    "        return qml.expval(qml.PauliZ(0)),qml.expval(qml.PauliZ(1)),qml.expval(qml.PauliZ(2))\n",
    "\n",
    "\n",
    "    var = np.hstack((np.zeros(6),5*np.random.random(3)-2.5))\n",
    "    steps = kwargs['s']\n",
    "    batch_size = kwargs['batch_size']\n",
    "    num_train = len(Y_train)\n",
    "    validation_size = int(num_train//2)\n",
    "    opt = qml.AdamOptimizer(kwargs['learning_rate'])\n",
    "\n",
    "    for _ in range(steps):\n",
    "        batch_index = np.random.randint(0, num_train, (batch_size,))\n",
    "        X_train_batch = X_train[batch_index]\n",
    "        Y_train_batch = Y_train[batch_index]\n",
    "\n",
    "        var,cost = opt.step_and_cost(lambda v: cost_fcn(v, inside_circuit,X_train_batch, Y_train_batch), var)\n",
    "\n",
    "    # need timing values from computing predictions\n",
    "\n",
    "    \n",
    "    theta = var[:-3]\n",
    "    w = var[-3:]\n",
    "    start = time.time() # add in timeit function from Wbranch\n",
    "    predictions=[int(np.round(2.*(1.0/(1.0+exp(np.dot(-w,inside_circuit(theta, angles=x)))))- 1.,0)) for x in X_test]\n",
    "    end = time.time()\n",
    "    inftime = end-start\n",
    "    err_rate = 1.0 - accuracy(predictions,Y_test)\n",
    "    # QHACK #\n",
    "    W_ = len(var)*inftime*(1./err_rate)\n",
    "    return len(var),inftime,err_rate,W_"
   ]
  },
  {
   "cell_type": "markdown",
   "id": "ethical-amplifier",
   "metadata": {},
   "source": [
    "## Import data from sklearn"
   ]
  },
  {
   "cell_type": "code",
   "execution_count": 8,
   "id": "indonesian-deputy",
   "metadata": {},
   "outputs": [],
   "source": [
    "from sklearn import datasets"
   ]
  },
  {
   "cell_type": "code",
   "execution_count": 9,
   "id": "armed-recipient",
   "metadata": {},
   "outputs": [],
   "source": [
    "n_samples = 1500\n",
    "noisy_circles = datasets.make_circles(n_samples=n_samples, factor=.5,\n",
    "                                      noise=.05)\n",
    "noisy_moons = datasets.make_moons(n_samples=n_samples, noise=.05)"
   ]
  },
  {
   "cell_type": "code",
   "execution_count": 10,
   "id": "southern-contribution",
   "metadata": {},
   "outputs": [],
   "source": [
    "X_train = noisy_circles[0][:1450]\n",
    "Y_train = noisy_circles[1][:1450]\n",
    "X_test = noisy_circles[0][50:]\n",
    "Y_test = noisy_circles[1][50:]"
   ]
  },
  {
   "cell_type": "markdown",
   "id": "young-retail",
   "metadata": {},
   "source": [
    "### Try running a loop over some hyper_parameters\n",
    "\n",
    "This uses the circuit classifer built during the Challenge -- the circuit and QNode is constructed inside the function `classify_data`\n",
    "\n",
    "The following characteristics are hard wired inside the function `classify_data`:\n",
    "* number of qubits (3)\n",
    "* number of rotation gates (6)\n",
    "* the initialization used for the rotations and weights (rotations intialized with 0, weights initialized with random numbers drawn uniformly from $[-2.5,2.5]$\n",
    "* the rotation gates that are trained (RY)\n",
    "* the rotation gates used in the `AngleEmbeddding` (RY)\n",
    "* the optimizer (`AdamOptimizer`)\n",
    "\n",
    "The following parameters are passed as keywords:\n",
    "* `s` (the number of steps to train for)\n",
    "* `batch_size` (the batch size used in training)\n",
    "* `learning_rate` (the initial learning rate for Adam)\n",
    "\n",
    "As in (de Wynter 2020) we only train each circuit for a few steps (here I'm using 10).  In (de Wynter 2020) the error rate surrogate is defined using a loss function evaluated over a subset of the data -- here I'm using the accuracy of assigned labels over the test data.  The full number of samples that I generated for the dataset is given by `n_samples` (above).  I've split that data in to train,test sets. "
   ]
  },
  {
   "cell_type": "code",
   "execution_count": null,
   "id": "whole-arlington",
   "metadata": {},
   "outputs": [
    {
     "name": "stdout",
     "output_type": "stream",
     "text": [
      "[(2, 0.01), (2, 0.05), (4, 0.01), (4, 0.05), (8, 0.01), (8, 0.05)]\n",
      "2 0.01 (9, 8.292428016662598, 0.5006896551724138, 149.05810691108388)\n",
      "2 0.05 (9, 8.127202987670898, 0.49241379310344824, 148.5434159511278)\n",
      "4 0.01 (9, 8.075539827346802, 1.0, 72.67985844612122)\n",
      "4 0.05 (9, 8.1657133102417, 0.5586206896551724, 131.55871444278293)\n"
     ]
    }
   ],
   "source": [
    "batch_sets = [2,4,8]\n",
    "learning_rates = [0.01,0.05]\n",
    "hyperparameters = list(itertools.product(batch_sets,learning_rates))\n",
    "print(hyperparameters)\n",
    "for idx,sdx in hyperparameters:\n",
    "    print(idx,sdx,classify_data(X_train,Y_train,X_test,Y_test,s=3,batch_size=idx,learning_rate=sdx))"
   ]
  },
  {
   "cell_type": "code",
   "execution_count": null,
   "id": "fewer-cowboy",
   "metadata": {},
   "outputs": [],
   "source": [
    "#uncommenting and running this cell should cause an error\n",
    "#inside_circuit "
   ]
  },
  {
   "cell_type": "code",
   "execution_count": null,
   "id": "direct-terror",
   "metadata": {},
   "outputs": [],
   "source": [
    "X_train.shape[1]"
   ]
  },
  {
   "cell_type": "markdown",
   "id": "local-disorder",
   "metadata": {},
   "source": [
    "### Try running a loop over some hyper_parameters\n",
    "\n",
    "This time use a circuit (QNode) that is created outside the function and passed as an argument\n",
    "\n",
    "Things that are still hard-wired inside the `train_circuit` function:\n",
    "* Optimizer choice\n",
    "* Initialization choice (same as above)\n"
   ]
  },
  {
   "cell_type": "code",
   "execution_count": null,
   "id": "caring-doctrine",
   "metadata": {},
   "outputs": [],
   "source": [
    "QUBITS = X_train.shape[1]\n",
    "def variational_circuit(params,angles=None):\n",
    "    qml.templates.embeddings.AngleEmbedding(angles, wires=range(QUBITS), rotation='Y') # replace with more general embedding\n",
    "    W= np.reshape(params,(len(params)//QUBITS,QUBITS))\n",
    "    qml.templates.layers.BasicEntanglerLayers(W, wires=range(QUBITS), rotation=qml.ops.RY)\n",
    "    return [qml.expval(qml.PauliZ(idx)) for idx in range(QUBITS)]\n",
    "dev = qml.device(\"default.qubit\",wires=QUBITS)\n",
    "# Instantiate the QNode\n",
    "outside_circuit = qml.QNode(func=variational_circuit,device=dev)\n"
   ]
  },
  {
   "cell_type": "code",
   "execution_count": null,
   "id": "charitable-display",
   "metadata": {},
   "outputs": [],
   "source": [
    "# redefine variational_circuit to take architecture parameters"
   ]
  },
  {
   "cell_type": "code",
   "execution_count": null,
   "id": "exceptional-insight",
   "metadata": {},
   "outputs": [],
   "source": []
  },
  {
   "cell_type": "code",
   "execution_count": null,
   "id": "yellow-bolivia",
   "metadata": {},
   "outputs": [],
   "source": [
    "outside_circuit #this should not cause an error"
   ]
  },
  {
   "cell_type": "code",
   "execution_count": null,
   "id": "plastic-music",
   "metadata": {},
   "outputs": [],
   "source": [
    "outside_circuit(np.zeros(10),angles=[0.5,-0.5]) #this should return something"
   ]
  },
  {
   "cell_type": "code",
   "execution_count": null,
   "id": "welcome-purple",
   "metadata": {},
   "outputs": [],
   "source": [
    "batch_sets = [2,4,8]\n",
    "learning_rates = [0.01,0.05]\n",
    "hyperparameters = list(itertools.product(batch_sets,learning_rates))\n",
    "print(hyperparameters)\n",
    "results = {}\n",
    "Wmax = 0.0\n",
    "for idx,sdx in hyperparameters:\n",
    "    p,i,er,wtemp=train_circuit(outside_circuit,10,X_train,Y_train,X_test,Y_test,s=5,batch_size=idx,rate_type='batch_cost',learning_rate=sdx)\n",
    "    if wtemp>=Wmax:\n",
    "        Wmax=wtemp\n",
    "        output = (idx,sdx,p,i,er)\n",
    "print(\"Max W coef: \", Wmax)\n",
    "print(\"hyperparameters: \",output[0],output[1])\n",
    "print(\"variables (p,i,er): \",p,i,er)"
   ]
  },
  {
   "cell_type": "markdown",
   "id": "upset-disco",
   "metadata": {},
   "source": [
    "### Pull in more detailed circuit design"
   ]
  },
  {
   "cell_type": "code",
   "execution_count": null,
   "id": "exposed-legend",
   "metadata": {},
   "outputs": [],
   "source": []
  }
 ],
 "metadata": {
  "kernelspec": {
   "display_name": "Python 3",
   "language": "python",
   "name": "python3"
  },
  "language_info": {
   "codemirror_mode": {
    "name": "ipython",
    "version": 3
   },
   "file_extension": ".py",
   "mimetype": "text/x-python",
   "name": "python",
   "nbconvert_exporter": "python",
   "pygments_lexer": "ipython3",
   "version": "3.6.12"
  }
 },
 "nbformat": 4,
 "nbformat_minor": 5
}
