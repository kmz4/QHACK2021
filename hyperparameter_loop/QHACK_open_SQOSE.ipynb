{
 "cells": [
  {
   "cell_type": "code",
   "execution_count": 1,
   "id": "banner-lighting",
   "metadata": {},
   "outputs": [
    {
     "data": {
      "text/html": [
       "<style>.container { width:98% !important; }</style>"
      ],
      "text/plain": [
       "<IPython.core.display.HTML object>"
      ]
     },
     "metadata": {},
     "output_type": "display_data"
    }
   ],
   "source": [
    "%config Completer.use_jedi = False\n",
    "from IPython.core.display import display, HTML\n",
    "display(HTML(\"<style>.container { width:98% !important; }</style>\"))"
   ]
  },
  {
   "cell_type": "code",
   "execution_count": 16,
   "id": "compound-characterization",
   "metadata": {},
   "outputs": [],
   "source": [
    "#! /usr/bin/python3\n",
    "\n",
    "import sys\n",
    "import pennylane as qml\n",
    "import numpy as np\n",
    "import sklearn as skl\n",
    "import autograd.numpy as np\n",
    "import itertools\n",
    "import time\n",
    "\n",
    "def train_circuit(circuit,n_params,X_train,Y_train,rate_type='accuracy',**kwargs):\n",
    "    \"\"\"Develop and train your very own variational quantum classifier.\n",
    "\n",
    "    Use the provided training data to train your classifier. The code you write\n",
    "    for this challenge should be completely contained within this function\n",
    "    between the # QHACK # comment markers. The number of qubits, choice of\n",
    "    variational ansatz, cost function, and optimization method are all to be\n",
    "    developed by you in this function.\n",
    "\n",
    "    Args:\n",
    "        circuit (qml.QNode): A circuit that you want to train\n",
    "        X_train (np.ndarray): An array of floats of size (M, n) to be used as training data.\n",
    "        Y_train (np.ndarray): An array of size (M,) which are the categorical labels\n",
    "            associated to the training data. The categories are labeled by -1, 0, and 1.\n",
    "        X_test (np.ndarray): An array of floats of (B, n) to serve as testing data.\n",
    "        kwargs: hyperparameters for the training (steps, batch_size, learning_rate)\n",
    "\n",
    "    Returns:\n",
    "        (p,i,e,w): The number of parameters, the inference time (time to evaluate the accuracy), error rate (accuracy on the test set)\n",
    "    \"\"\"\n",
    "\n",
    "    # Use this array to make a prediction for the labels of the data in X_test\n",
    "    from autograd.numpy import exp,tanh\n",
    "\n",
    "    def hinge_loss(labels, predictions,type='L2'):\n",
    "        loss = 0\n",
    "        for l, p in zip(labels, predictions):\n",
    "            if type=='L1':\n",
    "                loss = loss + np.abs(l - p) # L1 loss\n",
    "            elif type=='L2':\n",
    "                loss = loss + (l - p) ** 2 # L2 loss\n",
    "        loss = loss/len(labels)\n",
    "        return loss\n",
    "\n",
    "    def accuracy(labels, predictions):\n",
    "\n",
    "        loss = 0\n",
    "        tol = 0.05\n",
    "        #tol = 0.1\n",
    "        for l, p in zip(labels, predictions):\n",
    "            if abs(l - p) < tol:\n",
    "                loss = loss + 1\n",
    "        loss = loss / len(labels)\n",
    "\n",
    "        return loss\n",
    "\n",
    "    def cost_fcn(params,circuit=None,ang_array=[], actual=[]):\n",
    "        '''\n",
    "        use MAE to start\n",
    "        '''\n",
    "        labels = {2:-1,1:1,0:0}\n",
    "        n = len(ang_array[0])\n",
    "        w = params[-n:]\n",
    "        theta = params[:-n]\n",
    "        predictions = [2.*(1.0/(1.0+exp(np.dot(-w,circuit(theta, angles=x)))))- 1. for x in ang_array]\n",
    "        return hinge_loss(actual, predictions)\n",
    "\n",
    "    var = np.hstack((np.zeros(n_params),5*np.random.random(X_train.shape[1])-2.5))\n",
    "    steps = kwargs['s']\n",
    "    batch_size = kwargs['batch_size']\n",
    "    num_train = len(Y_train)\n",
    "    validation_size = 3*kwargs['batch_size']\n",
    "    opt = qml.AdamOptimizer(kwargs['learning_rate'])\n",
    "    start = time.time()\n",
    "    for _ in range(steps):\n",
    "        batch_index = np.random.randint(0, num_train, (batch_size,))\n",
    "        X_train_batch = X_train[batch_index]\n",
    "        Y_train_batch = Y_train[batch_index]\n",
    "        var,cost = opt.step_and_cost(lambda v: cost_fcn(v, circuit,X_train_batch, Y_train_batch), var)\n",
    "    end = time.time()\n",
    "    cost_time = (end-start)\n",
    "\n",
    "    w = var[-X_train.shape[1]:]\n",
    "    theta = var[:-X_train.shape[1]]\n",
    "\n",
    "    if rate_type =='accuracy':\n",
    "        validation_batch = np.random.randint(0, num_train, (validation_size,))\n",
    "        X_validation_batch = X_train[validation_batch]\n",
    "        Y_validation_batch = Y_train[validation_batch]\n",
    "        start = time.time() # add in timeit function from Wbranch\n",
    "        predictions=[int(np.round(2.*(1.0/(1.0+exp(np.dot(-w,circuit(theta, angles=x)))))- 1.,0)) for x in X_validation_batch]\n",
    "        end = time.time()\n",
    "        inftime = (end-start)/len(X_validation_batch)\n",
    "        err_rate = 1.0 - accuracy(predictions,Y_validation_batch)\n",
    "    elif rate_type=='batch_cost':\n",
    "        err_rate = cost\n",
    "        inftime = cost_time\n",
    "    # QHACK #\n",
    "    W_ = np.abs((100.-len(var))/(100.))*np.abs((100.-inftime)/(100.))*(1./err_rate)\n",
    "    return len(var),inftime,err_rate,W_,var\n",
    "\n",
    "\n",
    "def classify_data(X_train,Y_train,X_test,Y_test,**kwargs):\n",
    "    \"\"\"Develop and train your very own variational quantum classifier.\n",
    "\n",
    "    Use the provided training data to train your classifier. The code you write\n",
    "    for this challenge should be completely contained within this function\n",
    "    between the # QHACK # comment markers. The number of qubits, choice of\n",
    "    variational ansatz, cost function, and optimization method are all to be\n",
    "    developed by you in this function.\n",
    "\n",
    "    Args:\n",
    "        X_train (np.ndarray): An array of floats of size (250, 3) to be used as training data.\n",
    "        Y_train (np.ndarray): An array of size (250,) which are the categorical labels\n",
    "            associated to the training data. The categories are labeled by -1, 0, and 1.\n",
    "        X_test (np.ndarray): An array of floats of (50, 3) to serve as testing data.\n",
    "\n",
    "    Returns:\n",
    "        str: The predicted categories of X_test, converted from a list of ints to a\n",
    "            comma-separated string.\n",
    "    \"\"\"\n",
    "\n",
    "    # Use this array to make a prediction for the labels of the data in X_test\n",
    "    predictions = []\n",
    "\n",
    "    # QHACK #\n",
    "\n",
    "    from autograd.numpy import exp,tanh\n",
    "\n",
    "    def statepreparation(a):\n",
    "        qml.templates.embeddings.AngleEmbedding(a, wires=range(3), rotation='Y')\n",
    "\n",
    "    def layer(W):\n",
    "        qml.templates.layers.BasicEntanglerLayers(W, wires=range(3), rotation=qml.ops.RY)\n",
    "\n",
    "    def hinge_loss(labels, predictions,type='L2'):\n",
    "        loss = 0\n",
    "        for l, p in zip(labels, predictions):\n",
    "            if type=='L1':\n",
    "                loss = loss + np.abs(l - p) # L1 loss\n",
    "            elif type=='L2':\n",
    "                loss = loss + (l - p) ** 2 # L2 loss\n",
    "        loss = loss/len(labels)\n",
    "        return loss\n",
    "\n",
    "    def accuracy(labels, predictions):\n",
    "\n",
    "        loss = 0\n",
    "        tol = 0.05\n",
    "        #tol = 0.1\n",
    "        for l, p in zip(labels, predictions):\n",
    "            if abs(l - p) < tol:\n",
    "                loss = loss + 1\n",
    "        loss = loss / len(labels)\n",
    "\n",
    "        return loss\n",
    "\n",
    "    def cost_fcn(params,circuit=None,ang_array=[], actual=[]):\n",
    "        '''\n",
    "        use MAE to start\n",
    "        '''\n",
    "        labels = {2:-1,1:1,0:0}\n",
    "        w = params[-3:]\n",
    "        theta = params[:-3]\n",
    "        predictions = [2.*(1.0/(1.0+exp(np.dot(-w,circuit(theta, angles=x)))))- 1. for x in ang_array]\n",
    "        return hinge_loss(actual, predictions)\n",
    "\n",
    "    dev = qml.device(\"default.qubit\", wires=3)\n",
    "    @qml.qnode(dev)\n",
    "    def inside_circuit(params,angles=None):\n",
    "        statepreparation(angles)\n",
    "        W= np.reshape(params,(len(params)//3,3))\n",
    "        layer(W)\n",
    "        return qml.expval(qml.PauliZ(0)),qml.expval(qml.PauliZ(1)),qml.expval(qml.PauliZ(2))\n",
    "\n",
    "\n",
    "    var = np.hstack((np.zeros(6),5*np.random.random(3)-2.5))\n",
    "    steps = kwargs['s']\n",
    "    batch_size = kwargs['batch_size']\n",
    "    num_train = len(Y_train)\n",
    "    validation_size = int(num_train//2)\n",
    "    opt = qml.AdamOptimizer(kwargs['learning_rate'])\n",
    "\n",
    "    for _ in range(steps):\n",
    "        batch_index = np.random.randint(0, num_train, (batch_size,))\n",
    "        X_train_batch = X_train[batch_index]\n",
    "        Y_train_batch = Y_train[batch_index]\n",
    "\n",
    "        var,cost = opt.step_and_cost(lambda v: cost_fcn(v, inside_circuit,X_train_batch, Y_train_batch), var)\n",
    "\n",
    "    # need timing values from computing predictions\n",
    "\n",
    "    \n",
    "    theta = var[:-3]\n",
    "    w = var[-3:]\n",
    "    start = time.time() # add in timeit function from Wbranch\n",
    "    predictions=[int(np.round(2.*(1.0/(1.0+exp(np.dot(-w,inside_circuit(theta, angles=x)))))- 1.,0)) for x in X_test]\n",
    "    end = time.time()\n",
    "    inftime = end-start\n",
    "    err_rate = 1.0 - accuracy(predictions,Y_test)\n",
    "    # QHACK #\n",
    "    W_ = len(var)*inftime*(1./err_rate)\n",
    "    return len(var),inftime,err_rate,W_"
   ]
  },
  {
   "cell_type": "markdown",
   "id": "neither-coaching",
   "metadata": {},
   "source": [
    "## Import data from sklearn"
   ]
  },
  {
   "cell_type": "code",
   "execution_count": 3,
   "id": "different-pharmacy",
   "metadata": {},
   "outputs": [],
   "source": [
    "from sklearn import datasets"
   ]
  },
  {
   "cell_type": "code",
   "execution_count": 4,
   "id": "pacific-slovakia",
   "metadata": {},
   "outputs": [],
   "source": [
    "n_samples = 1500\n",
    "noisy_circles = datasets.make_circles(n_samples=n_samples, factor=.5,\n",
    "                                      noise=.05)\n",
    "noisy_moons = datasets.make_moons(n_samples=n_samples, noise=.05)"
   ]
  },
  {
   "cell_type": "code",
   "execution_count": 5,
   "id": "hollywood-paragraph",
   "metadata": {},
   "outputs": [],
   "source": [
    "X_train = noisy_circles[0][:1450]\n",
    "Y_train = noisy_circles[1][:1450]\n",
    "X_test = noisy_circles[0][50:]\n",
    "Y_test = noisy_circles[1][50:]"
   ]
  },
  {
   "cell_type": "markdown",
   "id": "baking-transmission",
   "metadata": {},
   "source": [
    "### Try running a loop over some hyper_parameters\n",
    "\n",
    "This uses the circuit classifer built during the Challenge -- the circuit and QNode is constructed inside the function `classify_data`\n",
    "\n",
    "The following characteristics are hard wired inside the function `classify_data`:\n",
    "* number of qubits (3)\n",
    "* number of rotation gates (6)\n",
    "* the initialization used for the rotations and weights (rotations intialized with 0, weights initialized with random numbers drawn uniformly from $[-2.5,2.5]$\n",
    "* the rotation gates that are trained (RY)\n",
    "* the rotation gates used in the `AngleEmbeddding` (RY)\n",
    "* the optimizer (`AdamOptimizer`)\n",
    "\n",
    "The following parameters are passed as keywords:\n",
    "* `s` (the number of steps to train for)\n",
    "* `batch_size` (the batch size used in training)\n",
    "* `learning_rate` (the initial learning rate for Adam)\n",
    "\n",
    "As in (de Wynter 2020) we only train each circuit for a few steps (here I'm using 10).  In (de Wynter 2020) the error rate surrogate is defined using a loss function evaluated over a subset of the data -- here I'm using the accuracy of assigned labels over the test data.  The full number of samples that I generated for the dataset is given by `n_samples` (above).  I've split that data in to train,test sets. "
   ]
  },
  {
   "cell_type": "code",
   "execution_count": 6,
   "id": "alert-provincial",
   "metadata": {},
   "outputs": [
    {
     "name": "stdout",
     "output_type": "stream",
     "text": [
      "[(2, 0.01), (2, 0.05), (4, 0.01), (4, 0.05), (8, 0.01), (8, 0.05)]\n",
      "2 0.01 (9, 8.796605110168457, 0.49862068965517237, 158.77689721673354)\n",
      "2 0.05 (9, 8.42807388305664, 0.49862068965517237, 152.1249850261261)\n",
      "4 0.01 (9, 9.946794986724854, 0.5013793103448276, 178.5497587025575)\n",
      "4 0.05 (9, 8.412147998809814, 0.7082758620689655, 106.89243562265636)\n",
      "8 0.01 (9, 8.332909107208252, 0.49862068965517237, 150.4072805657921)\n",
      "8 0.05 (9, 8.277477979660034, 0.5013793103448276, 148.5847147655618)\n"
     ]
    }
   ],
   "source": [
    "batch_sets = [2,4,8]\n",
    "learning_rates = [0.01,0.05]\n",
    "hyperparameters = list(itertools.product(batch_sets,learning_rates))\n",
    "print(hyperparameters)\n",
    "for idx,sdx in hyperparameters:\n",
    "    print(idx,sdx,classify_data(X_train,Y_train,X_test,Y_test,s=3,batch_size=idx,learning_rate=sdx))"
   ]
  },
  {
   "cell_type": "code",
   "execution_count": 7,
   "id": "experimental-singing",
   "metadata": {},
   "outputs": [],
   "source": [
    "#uncommenting and running this cell should cause an error\n",
    "#inside_circuit "
   ]
  },
  {
   "cell_type": "code",
   "execution_count": 8,
   "id": "loving-wonder",
   "metadata": {},
   "outputs": [
    {
     "data": {
      "text/plain": [
       "2"
      ]
     },
     "execution_count": 8,
     "metadata": {},
     "output_type": "execute_result"
    }
   ],
   "source": [
    "X_train.shape[1]"
   ]
  },
  {
   "cell_type": "markdown",
   "id": "adjustable-provider",
   "metadata": {},
   "source": [
    "### Try running a loop over some hyper_parameters\n",
    "\n",
    "This time use a circuit (QNode) that is created outside the function and passed as an argument\n",
    "\n",
    "Things that are still hard-wired inside the `train_circuit` function:\n",
    "* Optimizer choice\n",
    "* Initialization choice (same as above)\n"
   ]
  },
  {
   "cell_type": "code",
   "execution_count": 9,
   "id": "racial-litigation",
   "metadata": {},
   "outputs": [],
   "source": [
    "QUBITS = X_train.shape[1]\n",
    "def variational_circuit(params,angles=None):\n",
    "    qml.templates.embeddings.AngleEmbedding(angles, wires=range(QUBITS), rotation='Y') # replace with more general embedding\n",
    "    W= np.reshape(params,(len(params)//QUBITS,QUBITS))\n",
    "    qml.templates.layers.BasicEntanglerLayers(W, wires=range(QUBITS), rotation=qml.ops.RY)\n",
    "    return [qml.expval(qml.PauliZ(idx)) for idx in range(QUBITS)]\n",
    "dev = qml.device(\"default.qubit\",wires=QUBITS)\n",
    "# Instantiate the QNode\n",
    "outside_circuit = qml.QNode(func=variational_circuit,device=dev)\n"
   ]
  },
  {
   "cell_type": "code",
   "execution_count": 10,
   "id": "opposed-portable",
   "metadata": {},
   "outputs": [],
   "source": [
    "# redefine variational_circuit to take architecture parameters"
   ]
  },
  {
   "cell_type": "code",
   "execution_count": null,
   "id": "stupid-exclusive",
   "metadata": {},
   "outputs": [],
   "source": []
  },
  {
   "cell_type": "code",
   "execution_count": 11,
   "id": "atomic-kingdom",
   "metadata": {},
   "outputs": [
    {
     "data": {
      "text/plain": [
       "<QNode (differentiable): device='default.qubit', func=variational_circuit, wires=2, interface=autograd>"
      ]
     },
     "execution_count": 11,
     "metadata": {},
     "output_type": "execute_result"
    }
   ],
   "source": [
    "outside_circuit #this should not cause an error"
   ]
  },
  {
   "cell_type": "code",
   "execution_count": 12,
   "id": "basic-dayton",
   "metadata": {},
   "outputs": [
    {
     "data": {
      "text/plain": [
       "array([0.87758256, 0.77015115])"
      ]
     },
     "execution_count": 12,
     "metadata": {},
     "output_type": "execute_result"
    }
   ],
   "source": [
    "outside_circuit(np.zeros(10),angles=[0.5,-0.5]) #this should return something"
   ]
  },
  {
   "cell_type": "code",
   "execution_count": 24,
   "id": "mexican-possibility",
   "metadata": {},
   "outputs": [],
   "source": [
    "def loop_over_hyperparameters(circuit,n_params,X_train,Y_train,batch_sets,learning_rates,**kwargs):\n",
    "    \"\"\"\n",
    "    together with the function train_circuit(...) this executes lines 7-8 in the Algorithm 1 pseudo code of (de Wynter 2020)\n",
    "    \"\"\"\n",
    "    hyperparameter_space = list(itertools.product(batch_sets,learning_rates))\n",
    "    Wmax = 0.0\n",
    "    s = kwargs.get('s', None)\n",
    "    rate_type = kwargs.get('rate_type',None)\n",
    "    \n",
    "    for idx,sdx in hyperparameters:\n",
    "        p,i,er,wtemp,weights=train_circuit(circuit,n_params,X_train,Y_train,X_test,Y_test,s=s,batch_size=idx,rate_type=rate_type,learning_rate=sdx)\n",
    "        if wtemp>=Wmax:\n",
    "            Wmax=wtemp\n",
    "            saved_weights = weights\n",
    "    return Wmax,saved_weights"
   ]
  },
  {
   "cell_type": "code",
   "execution_count": 19,
   "id": "treated-singing",
   "metadata": {},
   "outputs": [
    {
     "name": "stdout",
     "output_type": "stream",
     "text": [
      "[(2, 0.001), (2, 0.005), (2, 0.01), (2, 0.05), (4, 0.001), (4, 0.005), (4, 0.01), (4, 0.05), (8, 0.001), (8, 0.005), (8, 0.01), (8, 0.05), (16, 0.001), (16, 0.005), (16, 0.01), (16, 0.05), (32, 0.001), (32, 0.005), (32, 0.01), (32, 0.05)]\n",
      "12 0.006519476572672526 0.33333333333333337 2.639827885818481 [-2.77445101e-03  1.96276072e-03  2.94774669e-03  2.06786760e-03\n",
      " -2.77445691e-03  1.96196718e-03  2.95038428e-03  2.06785333e-03\n",
      " -2.77446220e-03  1.96117652e-03  1.06761315e+00 -2.31490758e+00]\n",
      "12 0.007224122683207194 0.33333333333333337 2.6398092831611626 [-0.01452297 -0.02280676 -0.0180015  -0.02233194 -0.01452283 -0.02279085\n",
      " -0.01827237 -0.02233205 -0.01452281 -0.02277464  0.27661759 -1.96738303]\n",
      "12 0.006486852963765462 0.6666666666666667 1.3199143735408783 [ 0.02628975 -0.02976622 -0.02810189 -0.02999918  0.02629207 -0.0298603\n",
      " -0.02803198 -0.02999462  0.02629511 -0.02995237  2.26438751  0.84421112]\n",
      "12 0.006497343381245931 0.16666666666666663 5.279656940269472 [-0.05189296  0.07179313  0.15067398  0.05944969 -0.05308916  0.06711138\n",
      "  0.17590762  0.05838291 -0.05401751  0.06326774  0.61960613  1.60463093]\n",
      "12 0.006571074326833089 0.5833333333333333 1.5084722992215838 [ 0.00279783  0.00200141  0.00285674  0.00219468  0.00279782  0.00200315\n",
      "  0.00285659  0.00219471  0.00279782  0.00200489  1.22800558 -0.42315372]\n",
      "12 0.007118344306945801 1.0 0.8799373585700989 [-0.01583585  0.00991685 -0.01338561  0.01007925 -0.01583611  0.00990074\n",
      " -0.01364374  0.01007809 -0.01583634  0.00988495 -0.54508927 -2.01254556]\n",
      "12 0.006535927454630534 0.5833333333333333 1.508472829437256 [ 0.0343994  -0.02783315  0.02907919 -0.02981569  0.03441676 -0.02891598\n",
      "  0.02904083 -0.02973402  0.03443523 -0.02995781  0.74307827  0.00752235]\n",
      "12 0.006528158982594808 0.5 1.7598851044019064 [-0.12970454  0.06041865 -0.23833184  0.03606247 -0.12952417  0.06763709\n",
      " -0.23941499  0.03393811 -0.12925163  0.07336839 -0.47138418  1.25144813]\n",
      "12 0.006433576345443726 0.5833333333333333 1.508474373476846 [ 0.002843   -0.00279764 -0.00275027 -0.00282039  0.002843   -0.00279816\n",
      " -0.00274734 -0.00282039  0.002843   -0.00279867  1.56302907  1.16918225]\n",
      "12 0.006531467040379842 0.375 2.346513394906786 [-0.0175427   0.01488672 -0.01910659  0.01486449 -0.01754308  0.01483959\n",
      " -0.01916034  0.01486381 -0.01754334  0.01479263  1.96598314 -0.35969411]\n",
      "12 0.0072909196217854815 0.625 1.4078973438517253 [-0.02931562 -0.01492759 -0.02899446  0.04130622 -0.02932182 -0.01485796\n",
      " -0.02898745  0.04115875 -0.02932777 -0.01480041 -0.86854235 -0.52324186]\n",
      "12 0.007836967706680298 0.75 1.1732413795789083 [ 0.17679542  0.08101693 -0.22572987  0.08985553  0.17498619  0.12119805\n",
      " -0.22169858  0.13082807  0.17266174  0.19182175 -1.42588494  0.01585936]\n",
      "12 0.006461352109909058 1.0 0.8799431401014328 [ 3.05940090e-03  2.83650232e-03 -2.99422930e-03 -1.69018240e-04\n",
      "  3.05940364e-03  2.84325768e-03 -2.99124737e-03 -1.68881138e-04\n",
      "  3.05940641e-03  2.84998054e-03 -2.41939062e+00 -2.03372843e+00]\n",
      "12 0.006545772155125936 0.5 1.75988479441007 [-0.01525267  0.00598972  0.01470002  0.00632117 -0.01525304  0.00599764\n",
      "  0.01469287  0.00631738 -0.01525337  0.00600607  0.31859679  0.35956248]\n",
      "12 0.006426294644673665 0.5833333333333333 1.5084744833265034 [-0.02430339 -0.02695072  0.03312799 -0.02701503 -0.02432289 -0.02697664\n",
      "  0.03291752 -0.02700646 -0.02434013 -0.02700475 -0.15498133  0.64155673]\n",
      "12 0.006544187664985657 0.41666666666666663 2.111861786756516 [-0.13766973 -0.14815219  0.16562347 -0.15111208 -0.1375693  -0.15059232\n",
      "  0.16043564 -0.15110462 -0.13768449 -0.15298762  0.6882147   1.08742873]\n",
      "12 0.006447407106558482 0.44791666666666663 1.9645244937320088 [-0.00291209  0.00310157 -0.00332532  0.00312136 -0.00291208  0.00310159\n",
      " -0.00331896  0.00312136 -0.00291208  0.00310161  0.0087748   2.06032347]\n",
      "12 0.006852209568023682 0.5104166666666667 1.7239634949664677 [-0.01623273 -0.01703254  0.01539587 -0.01716498 -0.01623858 -0.01702699\n",
      "  0.01541553 -0.01716056 -0.01624453 -0.01702137 -0.62748583 -0.41307255]\n",
      "12 0.006577375034491221 0.6979166666666667 1.260812588560759 [-0.03208736 -0.03806676  0.04193125 -0.03795066 -0.03209513 -0.03797782\n",
      "  0.04248799 -0.03793366 -0.03210314 -0.03788635 -0.50611888 -1.21037057]\n",
      "12 0.006988207499186198 0.65625 1.3408586724175344 [-0.18265655 -0.19690031  0.23984808 -0.19260842 -0.18329881 -0.19291783\n",
      "  0.2427077  -0.19181689 -0.18399686 -0.18811264 -0.68974133 -1.00903281]\n",
      "Max W coef:  5.279656940269472\n",
      "saved weights:  [-0.05189296  0.07179313  0.15067398  0.05944969 -0.05308916  0.06711138\n",
      "  0.17590762  0.05838291 -0.05401751  0.06326774  0.61960613  1.60463093]\n",
      "hyperparameters:  2 0.05\n",
      "variables (p,i,er):  12 0.006988207499186198 0.65625\n"
     ]
    }
   ],
   "source": [
    "batch_sets = [2,4,8,16,32]\n",
    "learning_rates = [0.001,0.005,0.01,0.05]\n",
    "hyperparameters = list(itertools.product(batch_sets,learning_rates))\n",
    "print(hyperparameters)\n",
    "results = {}\n",
    "Wmax = 0.0\n",
    "for idx,sdx in hyperparameters:\n",
    "    p,i,er,wtemp,weights=train_circuit(outside_circuit,10,X_train,Y_train,X_test,Y_test,s=5,batch_size=idx,rate_type='accuracy',learning_rate=sdx)\n",
    "    print(p,i,er,wtemp,weights)\n",
    "    if wtemp>=Wmax:\n",
    "        Wmax=wtemp\n",
    "        saved_weights = weights\n",
    "        output = (idx,sdx,p,i,er)\n",
    "print(\"Max W coef: \", Wmax)\n",
    "print(\"saved weights: \",saved_weights)\n",
    "print(\"hyperparameters: \",output[0],output[1])\n",
    "print(\"variables (p,i,er): \",p,i,er)"
   ]
  },
  {
   "cell_type": "code",
   "execution_count": 23,
   "id": "biblical-praise",
   "metadata": {},
   "outputs": [
    {
     "data": {
      "text/plain": [
       "(3.00790045589606,\n",
       " array([0.01583075, 0.01626606, 0.01633701, 0.01636963, 0.16125688,\n",
       "        1.59823   ]))"
      ]
     },
     "execution_count": 23,
     "metadata": {},
     "output_type": "execute_result"
    }
   ],
   "source": [
    "loop_over_hyperparameters(outside_circuit,4,X_train,Y_train,batch_sets=[2,4,8,16,32],learning_rates=[0.001,0.005,0.01,0.05],s=5,rate_type='accuracy')"
   ]
  },
  {
   "cell_type": "markdown",
   "id": "convenient-candle",
   "metadata": {},
   "source": [
    "### Pull in more detailed circuit design"
   ]
  },
  {
   "cell_type": "code",
   "execution_count": null,
   "id": "dependent-hearts",
   "metadata": {},
   "outputs": [],
   "source": []
  }
 ],
 "metadata": {
  "kernelspec": {
   "display_name": "Python 3",
   "language": "python",
   "name": "python3"
  },
  "language_info": {
   "codemirror_mode": {
    "name": "ipython",
    "version": 3
   },
   "file_extension": ".py",
   "mimetype": "text/x-python",
   "name": "python",
   "nbconvert_exporter": "python",
   "pygments_lexer": "ipython3",
   "version": "3.6.12"
  }
 },
 "nbformat": 4,
 "nbformat_minor": 5
}
