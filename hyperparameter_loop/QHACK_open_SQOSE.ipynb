{
 "cells": [
  {
   "cell_type": "code",
   "execution_count": 39,
   "id": "distinct-party",
   "metadata": {},
   "outputs": [],
   "source": [
    "#! /usr/bin/python3\n",
    "\n",
    "import sys\n",
    "import pennylane as qml\n",
    "import numpy as np\n",
    "import sklearn as skl\n",
    "import autograd.numpy as np\n",
    "\n",
    "def classify_data(X_train,Y_train,X_test,Y_test,**kwargs):\n",
    "    \"\"\"Develop and train your very own variational quantum classifier.\n",
    "\n",
    "    Use the provided training data to train your classifier. The code you write\n",
    "    for this challenge should be completely contained within this function\n",
    "    between the # QHACK # comment markers. The number of qubits, choice of\n",
    "    variational ansatz, cost function, and optimization method are all to be\n",
    "    developed by you in this function.\n",
    "\n",
    "    Args:\n",
    "        X_train (np.ndarray): An array of floats of size (250, 3) to be used as training data.\n",
    "        Y_train (np.ndarray): An array of size (250,) which are the categorical labels\n",
    "            associated to the training data. The categories are labeled by -1, 0, and 1.\n",
    "        X_test (np.ndarray): An array of floats of (50, 3) to serve as testing data.\n",
    "\n",
    "    Returns:\n",
    "        str: The predicted categories of X_test, converted from a list of ints to a\n",
    "            comma-separated string.\n",
    "    \"\"\"\n",
    "\n",
    "    # Use this array to make a prediction for the labels of the data in X_test\n",
    "    predictions = []\n",
    "\n",
    "    # QHACK #\n",
    "\n",
    "    from autograd.numpy import exp,tanh\n",
    "\n",
    "    # start by renormalizing training data to fit within [-1,1]\n",
    "    \"\"\"\n",
    "    X_train = np.multiply(1.0,np.subtract(np.multiply(\\\n",
    "            np.divide(np.subtract(X_train,X_train.min()),\\\n",
    "                      (X_train.max()-X_train.min())),2.0),1.0))\n",
    "\n",
    "    # start by renormalizing testing data to fit within [-1,1]\n",
    "    X_test = np.multiply(1.0,np.subtract(np.multiply(\\\n",
    "            np.divide(np.subtract(X_test,X_test.min()),\\\n",
    "                      (X_test.max()-X_test.min())),2.0),1.0))\n",
    "    \"\"\"\n",
    "    def statepreparation(a):\n",
    "        qml.templates.embeddings.AngleEmbedding(a, wires=range(3), rotation='Y')\n",
    "\n",
    "    def layer(W):\n",
    "        qml.templates.layers.BasicEntanglerLayers(W, wires=range(3), rotation=qml.ops.RY)\n",
    "\n",
    "    def hinge_loss(labels, predictions,type='L2'):\n",
    "        loss = 0\n",
    "        for l, p in zip(labels, predictions):\n",
    "            if type=='L1':\n",
    "                loss = loss + np.abs(l - p) # L1 loss\n",
    "            elif type=='L2':\n",
    "                loss = loss + (l - p) ** 2 # L2 loss\n",
    "        loss = loss/len(labels)\n",
    "        return loss\n",
    "\n",
    "    def accuracy(labels, predictions):\n",
    "\n",
    "        loss = 0\n",
    "        tol = 0.05\n",
    "        #tol = 0.1\n",
    "        for l, p in zip(labels, predictions):\n",
    "            if abs(l - p) < tol:\n",
    "                loss = loss + 1\n",
    "        loss = loss / len(labels)\n",
    "\n",
    "        return loss\n",
    "\n",
    "    def cost_fcn(params,circuit=None,ang_array=[], actual=[]):\n",
    "        '''\n",
    "        use MAE to start\n",
    "        '''\n",
    "        labels = {2:-1,1:1,0:0}\n",
    "        w = params[-3:]\n",
    "        theta = params[:-3]\n",
    "        predictions = [2.*(1.0/(1.0+exp(np.dot(-w,circuit(theta, angles=x)))))- 1. for x in ang_array]\n",
    "        return hinge_loss(actual, predictions)\n",
    "\n",
    "    dev = qml.device(\"default.qubit\", wires=3)\n",
    "    @qml.qnode(dev)\n",
    "    def small_circuit(params,angles=None):\n",
    "        statepreparation(angles)\n",
    "        W= np.reshape(params,(len(params)//3,3))\n",
    "        layer(W)\n",
    "        return qml.expval(qml.PauliZ(0)),qml.expval(qml.PauliZ(1)),qml.expval(qml.PauliZ(2))\n",
    "\n",
    "\n",
    "    var = np.hstack((np.zeros(6),5*np.random.random(3)-2.5))\n",
    "    steps = kwargs['s']\n",
    "    batch_size = kwargs['batch_size']\n",
    "    num_train = len(Y_train)\n",
    "    validation_size = int(num_train//2)\n",
    "    opt = qml.AdamOptimizer(kwargs['learning_rate'])\n",
    "\n",
    "    for _ in range(steps):\n",
    "        batch_index = np.random.randint(0, num_train, (batch_size,))\n",
    "        X_train_batch = X_train[batch_index]\n",
    "        Y_train_batch = Y_train[batch_index]\n",
    "\n",
    "        var,cost = opt.step_and_cost(lambda v: cost_fcn(v, small_circuit,X_train_batch, Y_train_batch), var)\n",
    "\n",
    "        if (_%3)==0:\n",
    "            val_index = np.random.randint(0, num_train, (validation_size,))\n",
    "            X_val_batch = X_train[val_index]\n",
    "            Y_val_batch = Y_train[val_index]\n",
    "            w = var[-3:]\n",
    "            theta = var[:-3]\n",
    "            pred = [np.round(2.*(1.0/(1.0+exp(np.dot(-w,small_circuit(theta, angles=x)))))- 1.,0) for x in X_val_batch]\n",
    "            acc= accuracy(Y_val_batch,pred)\n",
    "            if acc>0.98:\n",
    "                break\n",
    "    # need timing values from computing predictions\n",
    "    predictions=[int(np.round(2.*(1.0/(1.0+exp(np.dot(-w,small_circuit(theta, angles=x)))))- 1.,0)) for x in X_test]\n",
    "    err_rate = accuracy(predictions,Y_test)\n",
    "    # QHACK #\n",
    "\n",
    "    #return array_to_concatenated_string(predictions)\n",
    "    return len(var),err_rate,'missing time'\n",
    "\n",
    "\n",
    "def array_to_concatenated_string(array):\n",
    "    \"\"\"DO NOT MODIFY THIS FUNCTION.\n",
    "\n",
    "    Turns an array of integers into a concatenated string of integers\n",
    "    separated by commas. (Inverse of concatenated_string_to_array).\n",
    "    \"\"\"\n",
    "    return \",\".join(str(x) for x in array)\n",
    "\n",
    "\n",
    "def concatenated_string_to_array(string):\n",
    "    \"\"\"DO NOT MODIFY THIS FUNCTION.\n",
    "\n",
    "    Turns a concatenated string of integers separated by commas into\n",
    "    an array of integers. (Inverse of array_to_concatenated_string).\n",
    "    \"\"\"\n",
    "    return np.array([int(x) for x in string.split(\",\")])\n",
    "\n",
    "\n",
    "def parse_input(giant_string):\n",
    "    \"\"\"DO NOT MODIFY THIS FUNCTION.\n",
    "\n",
    "    Parse the input data into 3 arrays: the training data, training labels,\n",
    "    and testing data.\n",
    "\n",
    "    Dimensions of the input data are:\n",
    "      - X_train: (250, 3)\n",
    "      - Y_train: (250,)\n",
    "      - X_test:  (50, 3)\n",
    "    \"\"\"\n",
    "    X_train_part, Y_train_part, X_test_part = giant_string.split(\"XXX\")\n",
    "\n",
    "    X_train_row_strings = X_train_part.split(\"S\")\n",
    "    X_train_rows = [[float(x) for x in row.split(\",\")] for row in X_train_row_strings]\n",
    "    X_train = np.array(X_train_rows)\n",
    "\n",
    "    Y_train = concatenated_string_to_array(Y_train_part)\n",
    "\n",
    "    X_test_row_strings = X_test_part.split(\"S\")\n",
    "    X_test_rows = [[float(x) for x in row.split(\",\")] for row in X_test_row_strings]\n",
    "    X_test = np.array(X_test_rows)\n",
    "\n",
    "    return X_train, Y_train, X_test"
   ]
  },
  {
   "cell_type": "markdown",
   "id": "august-acquisition",
   "metadata": {},
   "source": [
    "## Import data from sklearn"
   ]
  },
  {
   "cell_type": "code",
   "execution_count": 4,
   "id": "figured-newfoundland",
   "metadata": {},
   "outputs": [],
   "source": [
    "from sklearn import datasets"
   ]
  },
  {
   "cell_type": "code",
   "execution_count": 7,
   "id": "exotic-trail",
   "metadata": {},
   "outputs": [],
   "source": [
    "n_samples = 1500\n",
    "noisy_circles = datasets.make_circles(n_samples=n_samples, factor=.5,\n",
    "                                      noise=.05)\n",
    "noisy_moons = datasets.make_moons(n_samples=n_samples, noise=.05)"
   ]
  },
  {
   "cell_type": "code",
   "execution_count": 13,
   "id": "academic-purpose",
   "metadata": {},
   "outputs": [],
   "source": [
    "X_train = noisy_circles[0][:1000]\n",
    "Y_train = noisy_circles[1][:1000]\n",
    "X_test = noisy_circles[0][500:]\n",
    "Y_test = noisy_circles[1][500:]"
   ]
  },
  {
   "cell_type": "code",
   "execution_count": 42,
   "id": "respective-belle",
   "metadata": {},
   "outputs": [
    {
     "name": "stdout",
     "output_type": "stream",
     "text": [
      "[(1, 0.001), (2, 0.005), (4, 0.01), (8, 0.05), (16, 0.1)]\n"
     ]
    },
    {
     "ename": "TypeError",
     "evalue": "'float' object is not subscriptable",
     "output_type": "error",
     "traceback": [
      "\u001b[0;31m---------------------------------------------------------------------------\u001b[0m",
      "\u001b[0;31mTypeError\u001b[0m                                 Traceback (most recent call last)",
      "\u001b[0;32m<ipython-input-42-4bbc565929b7>\u001b[0m in \u001b[0;36m<module>\u001b[0;34m\u001b[0m\n\u001b[1;32m      4\u001b[0m \u001b[0mprint\u001b[0m\u001b[0;34m(\u001b[0m\u001b[0mhyperparameters\u001b[0m\u001b[0;34m)\u001b[0m\u001b[0;34m\u001b[0m\u001b[0;34m\u001b[0m\u001b[0m\n\u001b[1;32m      5\u001b[0m \u001b[0;32mfor\u001b[0m \u001b[0midx\u001b[0m\u001b[0;34m,\u001b[0m\u001b[0msdx\u001b[0m \u001b[0;32min\u001b[0m \u001b[0mhyperparameters\u001b[0m\u001b[0;34m:\u001b[0m\u001b[0;34m\u001b[0m\u001b[0;34m\u001b[0m\u001b[0m\n\u001b[0;32m----> 6\u001b[0;31m     \u001b[0mprint\u001b[0m\u001b[0;34m(\u001b[0m\u001b[0mclassify_data\u001b[0m\u001b[0;34m(\u001b[0m\u001b[0mX_train\u001b[0m\u001b[0;34m,\u001b[0m\u001b[0mY_train\u001b[0m\u001b[0;34m,\u001b[0m\u001b[0mX_test\u001b[0m\u001b[0;34m,\u001b[0m\u001b[0mY_test\u001b[0m\u001b[0;34m,\u001b[0m\u001b[0ms\u001b[0m\u001b[0;34m=\u001b[0m\u001b[0;36m10\u001b[0m\u001b[0;34m,\u001b[0m\u001b[0mbatch_size\u001b[0m\u001b[0;34m=\u001b[0m\u001b[0msdx\u001b[0m\u001b[0;34m[\u001b[0m\u001b[0;36m0\u001b[0m\u001b[0;34m]\u001b[0m\u001b[0;34m,\u001b[0m\u001b[0mlearning_rate\u001b[0m\u001b[0;34m=\u001b[0m\u001b[0msdx\u001b[0m\u001b[0;34m[\u001b[0m\u001b[0;36m1\u001b[0m\u001b[0;34m]\u001b[0m\u001b[0;34m)\u001b[0m\u001b[0;34m)\u001b[0m\u001b[0;34m\u001b[0m\u001b[0;34m\u001b[0m\u001b[0m\n\u001b[0m",
      "\u001b[0;31mTypeError\u001b[0m: 'float' object is not subscriptable"
     ]
    }
   ],
   "source": [
    "batch_sets = [1,2,4,8,16]\n",
    "learning_rates = [0.001,0.005,0.01,0.05,0.1]\n",
    "hyperparameters = list(zip(batch_sets,learning_rates))\n",
    "print(hyperparameters)\n",
    "for idx,sdx in hyperparameters:\n",
    "    print(classify_data(X_train,Y_train,X_test,Y_test,s=10,batch_size=sdx[0],learning_rate=sdx[1]))"
   ]
  },
  {
   "cell_type": "code",
   "execution_count": 40,
   "id": "dependent-mounting",
   "metadata": {},
   "outputs": [
    {
     "data": {
      "text/plain": [
       "(9, 0.495, 'missing time')"
      ]
     },
     "execution_count": 40,
     "metadata": {},
     "output_type": "execute_result"
    }
   ],
   "source": [
    "classify_data(X_train,Y_train,X_test,Y_test,s=10,batch_size=8,learning_rate=0.1)"
   ]
  },
  {
   "cell_type": "code",
   "execution_count": 17,
   "id": "beneficial-chancellor",
   "metadata": {},
   "outputs": [],
   "source": []
  },
  {
   "cell_type": "code",
   "execution_count": null,
   "id": "anonymous-sigma",
   "metadata": {},
   "outputs": [],
   "source": []
  }
 ],
 "metadata": {
  "kernelspec": {
   "display_name": "Python 3",
   "language": "python",
   "name": "python3"
  },
  "language_info": {
   "codemirror_mode": {
    "name": "ipython",
    "version": 3
   },
   "file_extension": ".py",
   "mimetype": "text/x-python",
   "name": "python",
   "nbconvert_exporter": "python",
   "pygments_lexer": "ipython3",
   "version": "3.6.12"
  }
 },
 "nbformat": 4,
 "nbformat_minor": 5
}
